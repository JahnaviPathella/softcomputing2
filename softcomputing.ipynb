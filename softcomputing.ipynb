{
  "nbformat": 4,
  "nbformat_minor": 0,
  "metadata": {
    "colab": {
      "provenance": []
    },
    "kernelspec": {
      "name": "python3",
      "display_name": "Python 3"
    },
    "language_info": {
      "name": "python"
    }
  },
  "cells": [
    {
      "cell_type": "code",
      "execution_count": 1,
      "metadata": {
        "id": "fx7YjhSv6bmo"
      },
      "outputs": [],
      "source": [
        "import tensorflow as tf\n",
        "import os\n",
        "import pandas as pd\n",
        "import numpy as np\n",
        "import matplotlib.pyplot as plt\n",
        "import seaborn as sns\n",
        "import h5py\n",
        "import cv2\n",
        "import keras\n",
        "import random\n",
        "from glob import glob\n",
        "from PIL import Image\n",
        "from tensorflow import keras\n",
        "from tensorflow.keras import layers, Model\n",
        "import tensorflow.keras.applications as applications\n",
        "from tensorflow.keras.applications import VGG16\n",
        "from sklearn.model_selection import train_test_split\n",
        "from keras.models import Sequential, load_model, Model\n",
        "from keras.layers import GlobalAveragePooling2D, Dense, Dropout, Flatten, Input, Conv2D, multiply, Lambda\n",
        "from tensorflow.keras.preprocessing.image import ImageDataGenerator\n",
        "# from keras.layers import Dense, Activation, Dropout, Flatten, Conv2D, MaxPooling2D, GlobalAveragePooling2D\n",
        "# from keras.layers.normalization import BatchNormalization\n",
        "from tensorflow.keras import backend as K\n",
        "from keras.layers import *\n",
        "from keras.optimizers import *\n",
        "from keras.callbacks import *\n",
        "import time"
      ]
    },
    {
      "cell_type": "code",
      "source": [
        "def train_df(train_path):\n",
        "    classes, class_paths = zip(*[(label, os.path.join(train_path, label, image))\n",
        "                               for label in os.listdir(train_path) if os.path.isdir(os.path.join(train_path, label))\n",
        "                               for image in os.listdir(os.path.join(train_path, label))])\n",
        "\n",
        "    train_df = pd.DataFrame({'Class Path': class_paths, 'Class': classes})\n",
        "    return train_df"
      ],
      "metadata": {
        "id": "8XqQS2e76sKj"
      },
      "execution_count": 2,
      "outputs": []
    },
    {
      "cell_type": "code",
      "source": [
        "def test_df(test_path):\n",
        "    classes, class_paths = zip(*[(label, os.path.join(test_path, label, image))\n",
        "                               for label in os.listdir(test_path) if os.path.isdir(os.path.join(test_path, label))\n",
        "                               for image in os.listdir(os.path.join(test_path, label))])\n",
        "\n",
        "    test_df = pd.DataFrame({'Class Path': class_paths, 'Class': classes})\n",
        "    return test_df"
      ],
      "metadata": {
        "id": "twGFpjmY6yLD"
      },
      "execution_count": 3,
      "outputs": []
    },
    {
      "cell_type": "code",
      "source": [
        "df_train = train_df('/content/training')"
      ],
      "metadata": {
        "id": "NUOy-x5L6zWe"
      },
      "execution_count": 4,
      "outputs": []
    },
    {
      "cell_type": "code",
      "source": [
        "df_test = test_df('/content/testing')"
      ],
      "metadata": {
        "id": "z9sqje2T61FP"
      },
      "execution_count": 5,
      "outputs": []
    },
    {
      "cell_type": "code",
      "source": [
        "valid_data, test_data = train_test_split(df_test, train_size=0.6, random_state=32, stratify=df_test['Class'])"
      ],
      "metadata": {
        "id": "7oVYLD-N6-BJ"
      },
      "execution_count": 6,
      "outputs": []
    },
    {
      "cell_type": "code",
      "source": [
        "train_datagen = ImageDataGenerator(rescale=1/255,\n",
        "                                  brightness_range=(0.8, 1.2))\n",
        "\n",
        "test_datagen = ImageDataGenerator(rescale=1/255)\n",
        "\n",
        "train_gen = train_datagen.flow_from_dataframe(df_train, x_col='Class Path',\n",
        "                                             y_col='Class', batch_size=8,\n",
        "                                             target_size=(224, 224))\n",
        "valid_gen = train_datagen.flow_from_dataframe(valid_data, x_col='Class Path',\n",
        "                                             y_col='Class', batch_size=8,\n",
        "                                             target_size=(224, 224))\n",
        "test_gen = test_datagen.flow_from_dataframe(test_data, x_col='Class Path',\n",
        "                                           y_col='Class', batch_size=8,\n",
        "                                           target_size=(224, 224), shuffle=False)"
      ],
      "metadata": {
        "id": "PvRwjJ5Y6_zX",
        "colab": {
          "base_uri": "https://localhost:8080/"
        },
        "outputId": "c85fd4f1-e47a-4582-de49-19afa466a7e9"
      },
      "execution_count": 7,
      "outputs": [
        {
          "output_type": "stream",
          "name": "stdout",
          "text": [
            "Found 4652 validated image filenames belonging to 4 classes.\n",
            "Found 786 validated image filenames belonging to 4 classes.\n",
            "Found 525 validated image filenames belonging to 4 classes.\n"
          ]
        }
      ]
    },
    {
      "cell_type": "code",
      "source": [
        "from keras.datasets import cifar10\n",
        "from keras.utils import to_categorical\n",
        "import pickle\n",
        "import sys\n",
        "from matplotlib import pyplot as plt\n",
        "\n",
        "\n",
        "# def load_dataset(batch_size, num_classes, epochs):  \t\t\t\t\t# retrieve CIFAR10 dataset and process data\n",
        "#     (x_train, y_train), (x_test, y_test) = cifar10.load_data()\n",
        "#     x_train = x_train.astype('float32')\t\t\t\t\t\t\t\t# convert from integers to floats\n",
        "#     x_test = x_test.astype('float32')\n",
        "#     x_train /= 255\t\t\t\t\t\t\t\t\t\t\t\t\t\t# normalize to range 0-1\n",
        "#     x_test /= 255\n",
        "#     y_train = to_categorical(y_train, num_classes)  \t\t\t\t\t# one-hot encoding\n",
        "#     y_test = to_categorical(y_test, num_classes)\n",
        "\n",
        "#     dataset = {\n",
        "#         'batch_size': batch_size,\n",
        "#         'num_classes': num_classes,\n",
        "#         'epochs': epochs,\n",
        "#         'x_train': x_train,\n",
        "#         'x_test': x_test,\n",
        "#         'y_train': y_train,\n",
        "#         'y_test': y_test\n",
        "#     }\n",
        "\n",
        "#     return dataset\n",
        "\n",
        "def load_dataset(batch_size, num_classes, epochs):\n",
        "    gen_train = train_gen\n",
        "    gen_valid = valid_gen\n",
        "\n",
        "    dataset = {\n",
        "        'batch_size': batch_size,\n",
        "        'num_classes': num_classes,\n",
        "        'epochs': epochs,\n",
        "        'gen_train': gen_train,\n",
        "        'gen_valid': gen_valid\n",
        "    }\n",
        "\n",
        "    return dataset\n",
        "\n",
        "\n",
        "def save_network(network):\n",
        "    object_file = open(network.name + '.obj', 'wb')\n",
        "    pickle.dump(network, object_file)\n",
        "\n",
        "\n",
        "def load_network(name):\n",
        "    object_file = open(name + '.obj', 'rb')\n",
        "    return pickle.load(object_file)\n",
        "\n",
        "\n",
        "def order_indexes(self):\n",
        "    i = 0\n",
        "    for block in self.block_list:\n",
        "        block.index = i\n",
        "        i += 1\n",
        "\n",
        "\n",
        "def plot_training(history):                                           # plot diagnostic learning curves\n",
        "    plt.figure(figsize=[8, 6])\t\t\t\t\t\t\t\t\t\t\t# loss curves\n",
        "    plt.plot(history.history['loss'], 'r', linewidth=3.0)\n",
        "    plt.plot(history.history['val_loss'], 'b', linewidth=3.0)\n",
        "    plt.legend(['Training loss', 'Validation Loss'], fontsize=18)\n",
        "    plt.xlabel('Epochs ', fontsize=16)\n",
        "    plt.ylabel('Loss', fontsize=16)\n",
        "    plt.title('Loss Curves', fontsize=16)\n",
        "\n",
        "    filename = sys.argv[0].split('/')[-1]\n",
        "    plt.savefig(filename + '_loss_plot.png')\n",
        "\n",
        "    plt.figure(figsize=[8, 6])\t\t\t\t\t\t\t\t\t\t\t# accuracy curves\n",
        "    plt.plot(history.history['accuracy'], 'r', linewidth=3.0)\n",
        "    plt.plot(history.history['val_accuracy'], 'b', linewidth=3.0)\n",
        "    plt.legend(['Training Accuracy', 'Validation Accuracy'], fontsize=18)\n",
        "    plt.xlabel('Epochs ', fontsize=16)\n",
        "    plt.ylabel('Accuracy', fontsize=16)\n",
        "    plt.title('Accuracy Curves', fontsize=16)\n",
        "\n",
        "    filename = sys.argv[0].split('/')[-1]\n",
        "    plt.savefig(filename + '_acc_plot.png')\n",
        "    plt.close()\n",
        "\n",
        "\n",
        "def plot_statistics(stats):\n",
        "    plt.figure(figsize=[8, 6])\t\t\t\t\t\t\t\t\t\t\t# fitness curves\n",
        "    plt.plot([s[0] for s in stats], 'r', linewidth=3.0)\n",
        "    plt.plot([stats[0][0]] * len(stats), 'b', linewidth=3.0)\n",
        "    plt.legend(['BestFitness', 'InitialFitness'], fontsize=18)\n",
        "    plt.xlabel('Generations', fontsize=16)\n",
        "    plt.ylabel('FitnessValue', fontsize=16)\n",
        "    plt.title('Fitness Curve', fontsize=16)\n",
        "    filename = sys.argv[0].split('/')[-1]\n",
        "    plt.savefig(filename + '_fitness_plot.png')\n",
        "\n",
        "    plt.figure(figsize=[8, 6])\t\t\t\t\t\t\t\t\t\t\t# parameters curves\n",
        "    plt.plot([s[1] for s in stats], 'r', linewidth=3.0)\n",
        "    plt.plot([stats[0][1]] * len(stats), 'b', linewidth=3.0)\n",
        "    plt.legend(['BestParamsNum', 'InitialParamsNum'], fontsize=18)\n",
        "    plt.xlabel('Generations', fontsize=16)\n",
        "    plt.ylabel('ParamsNum', fontsize=16)\n",
        "    plt.title('Parameters Curve', fontsize=16)\n",
        "    filename = sys.argv[0].split('/')[-1]\n",
        "    plt.savefig(filename + '_params_plot.png')\n",
        "    plt.close()"
      ],
      "metadata": {
        "id": "cP6xFUkL7Boz"
      },
      "execution_count": 8,
      "outputs": []
    },
    {
      "cell_type": "code",
      "source": [
        "import keras.layers\n",
        "from random import randint\n",
        "\n",
        "\n",
        "class Block:\n",
        "\t__slots__ = ('type', 'index', 'layerList1', 'layerList2')\n",
        "\n",
        "\tdef __init__(self, type, index, layerList1, layerList2):\n",
        "\t\tself.type = type\t\t\t\t\t\t\t\t\t\t# 0 -> initial layer; 1 -> mid layers; 2 -> final layer\n",
        "\t\tself.index = index\t\t\t\t\t\t\t\t\t\t# block index among all the blocks\n",
        "\t\tself.layerList1 = layerList1\t\t\t\t\t\t\t# Convolutional layers\n",
        "\t\tself.layerList2 = layerList2\t\t\t\t\t\t\t# Pooling and Dropout layers\n",
        "\n",
        "\tdef get_layers(self):\n",
        "\t\treturn self.layerList1 + self.layerList2\n",
        "\n",
        "\tdef get_size(self):\n",
        "\t\treturn len(self.get_layers())\n",
        "\n",
        "\n",
        "class Convolutional:\n",
        "\t# __slots__ = ('name', 'filters', 'padding', 'filter_size', 'stride_size', 'input_shape')\n",
        "\n",
        "\tdef __init__(self, filters, padding, filter_size, stride_size, input_shape):\n",
        "\t\tself.name = 'Conv2D'\n",
        "\t\tself.filters = filters\n",
        "\t\tself.padding = padding\n",
        "\t\tself.filter_size = filter_size\n",
        "\t\tself.stride_size = stride_size\n",
        "\t\tself.input_shape = input_shape\n",
        "\n",
        "\tdef build_layer(self, model):\n",
        "\t\tmodel.add(keras.layers.Conv2D(filters=self.filters,\n",
        "\t\t\t\t\t\t\t\t\t   kernel_size=self.filter_size,\n",
        "\t\t\t\t\t\t\t\t\t   strides=self.stride_size,\n",
        "\t\t\t\t\t\t\t\t\t   padding=self.padding,\n",
        "\t\t\t\t\t\t\t\t\t   activation='relu',\n",
        "\t\t\t\t\t\t\t\t\t   kernel_initializer='he_uniform',\n",
        "\t\t\t\t\t\t\t\t\t   input_shape=self.input_shape))\n",
        "\n",
        "\tdef mutate_parameters(self):\n",
        "\t\tmutation = randint(0, 4)\n",
        "\t\tprint(\"Mutating\", self.name, \"layer:\")\n",
        "\t\tif mutation == 0 and self.filters >= 32:\n",
        "\t\t\tprint(\"-->changed self.filters from \", self.filters, \" \", end=\"\")\n",
        "\t\t\tself.filters = int(self.filters / 2)\n",
        "\t\t\tprint(\"to \", self.filters)\n",
        "\t\telif mutation == 1 and self.filters >= 32:\n",
        "\t\t\tprint(\"-->changed self.filters from \", self.filters, \" \", end=\"\")\n",
        "\t\t\tself.filters = int(self.filters / 2)\n",
        "\t\t\tprint(\"to \", self.filters)\n",
        "\t\telif mutation == 2 and self.filters <= 512:\n",
        "\t\t\tprint(\"-->changed self.filters from \", self.filters, \" \", end=\"\")\n",
        "\t\t\tself.filters *= 2\n",
        "\t\t\tprint(\"to \", self.filters)\n",
        "\t\telif mutation == 3 and self.filters <= 512:\n",
        "\t\t\tprint(\"-->changed self.filters from \", self.filters, \" \", end=\"\")\n",
        "\t\t\tself.filters *= 2\n",
        "\t\t\tprint(\"to \", self.filters)\n",
        "\t\telif mutation == 4:\n",
        "\t\t\tif self.padding == 'valid':\n",
        "\t\t\t\tprint(\"-->changed self.padding from \", self.padding, \" \", end=\"\")\n",
        "\t\t\t\tself.padding = 'same'\n",
        "\t\t\t\tprint(\"to \", self.padding)\n",
        "\t\t\telse:\n",
        "\t\t\t\tprint(\"-->changed self.padding from \", self.padding, \" \", end=\"\")\n",
        "\t\t\t\tself.padding = 'valid'\n",
        "\t\t\t\tprint(\"to \", self.padding)\n",
        "\n",
        "\n",
        "'''\n",
        "elif mutation is 4:\n",
        "\tprint(\"changed self.stride_size from \", self.stride_size, \" \", end=\"\")\n",
        "\tself.stride_size = (self.stride_size[0] + 1, self.stride_size[1] + 1)\n",
        "\tprint(\"to \", self.stride_size, \" and \", end=\"\")\n",
        "\tprint(\"changed self.stride_size from \", self.stride_size, \" \", end=\"\")\n",
        "\tself.stride_size = (self.stride_size[0] + 1, self.stride_size[1] + 1)\n",
        "\tprint(\"to \", self.stride_size)\n",
        "'''\n",
        "\n",
        "\n",
        "class Pooling:\n",
        "\t__slots__ = ('name', 'pool_size', 'stride_size', 'padding')\n",
        "\n",
        "\tdef __init__(self, pool_size, stride_size, padding):\n",
        "\t\tself.name = 'MaxPooling2D'\n",
        "\t\tself.pool_size = pool_size\n",
        "\t\tself.stride_size = stride_size\n",
        "\t\tself.padding = padding\n",
        "\n",
        "\tdef build_layer(self, model):\n",
        "\t\tif self.name == 'MaxPooling2D':\n",
        "\t\t\tmodel.add(keras.layers.MaxPooling2D(self.pool_size, self.stride_size, self.padding))\n",
        "\t\telif self.name == 'AveragePooling2D':\n",
        "\t\t\tmodel.add(keras.layers.AveragePooling2D(self.pool_size, self.stride_size, self.padding))\n",
        "\n",
        "\tdef mutate_parameters(self):\n",
        "\t\tprint(\"Mutating\", self.name, \"layer:\")\n",
        "\t\tmutation = randint(0, 1)\n",
        "\t\tif mutation == 0:\n",
        "\t\t\tif self.padding == 'valid':\n",
        "\t\t\t\tprint(\"-->changed self.padding from \", self.padding, \" \", end=\"\")\n",
        "\t\t\t\tself.padding = 'same'\n",
        "\t\t\t\tprint(\"to \", self.padding)\n",
        "\t\t\telse:\n",
        "\t\t\t\tprint(\"-->changed self.padding from \", self.padding, \" \", end=\"\")\n",
        "\t\t\t\tself.padding = 'valid'\n",
        "\t\t\t\tprint(\"to \", self.padding)\n",
        "\t\telif mutation == 1:\n",
        "\t\t\tif self.name == 'MaxPooling2D':\n",
        "\t\t\t\tprint(\"-->changed self.name from \", self.name, \" \", end=\"\")\n",
        "\t\t\t\tself.name = 'AveragePooling2D'\n",
        "\t\t\t\tprint(\"to \", self.name)\n",
        "\t\t\telse:\n",
        "\t\t\t\tprint(\"-->changed self.name from \", self.name, \" \", end=\"\")\n",
        "\t\t\t\tself.name = 'MaxPooling2D'\n",
        "\t\t\t\tprint(\"to \", self.name)\n",
        "\n",
        "\n",
        "'''\n",
        "if mutation is 0:\n",
        "\tprint(\"changed self.stride_size from \", self.stride_size, \" \", end=\"\")\n",
        "\tself.stride_size = (self.stride_size[0] + 1, self.stride_size[1] + 1)\n",
        "\tprint(\"to \", self.stride_size)\n",
        "'''\n",
        "\n",
        "\n",
        "class FullyConnected:\n",
        "\t__slots__ = ('name', 'units', 'num_classes')\n",
        "\n",
        "\tdef __init__(self, units, num_classes):\n",
        "\t\tself.name = \"FullyConnected\"\n",
        "\t\tself.units = units\n",
        "\t\tself.num_classes = num_classes\n",
        "\n",
        "\tdef build_layer(self, model):\n",
        "\t\tmodel.add(keras.layers.Flatten())\n",
        "\t\tmodel.add(keras.layers.Dense(self.units, activation='relu', kernel_initializer='he_uniform'))\n",
        "\t\tmodel.add(keras.layers.Dense(self.num_classes, activation='softmax'))\n",
        "\n",
        "\tdef mutate_parameters(self):\n",
        "\t\tprint(\"Mutating\", self.name, \"layer:\")\n",
        "\t\tmutation = randint(0, 2)\n",
        "\t\tif mutation == 0:\n",
        "\t\t\tprint(\"-->changed self.units from \", self.units, \" \", end=\"\")\n",
        "\t\t\tself.units *= 2\n",
        "\t\t\tprint(\"to \", self.units)\n",
        "\t\telif mutation == 1:\n",
        "\t\t\tprint(\"-->changed self.units from \", self.units, \" \", end=\"\")\n",
        "\t\t\tself.units *= 2\n",
        "\t\t\tprint(\"to \", self.units)\n",
        "\t\telif mutation == 2:\n",
        "\t\t\tprint(\"-->changed self.units from \", self.units, \" \", end=\"\")\n",
        "\t\t\tself.units /= 2\n",
        "\t\t\tprint(\"to \", self.units)\n",
        "\n",
        "\n",
        "'''\n",
        "model.add(Flatten())\n",
        "model.add(Dense(512, activation='relu'))\n",
        "model.add(Dropout(0.5))\n",
        "model.add(Dense(self.num_classes, activation='softmax'))\n",
        "'''\n",
        "\n",
        "\n",
        "class Dropout:\n",
        "\t__slots__ = ('name', 'rate')\n",
        "\n",
        "\tdef __init__(self, rate):\n",
        "\t\tself.name = \"Dropout\"\n",
        "\t\tself.rate = rate\n",
        "\n",
        "\tdef build_layer(self, model):\n",
        "\t\tmodel.add(keras.layers.Dropout(self.rate))\n",
        "\n",
        "\tdef mutate_parameters(self):\n",
        "\t\tprint(\"Mutating\", self.name, \"layer:\")\n",
        "\t\tmutation = randint(0, 3)\n",
        "\t\tif mutation == 0 and self.rate <= 0.85:\n",
        "\t\t\tprint(\"-->changed self.rate from \", self.rate, \" \", end=\"\")\n",
        "\t\t\tself.rate = self.rate + 0.10\n",
        "\t\t\tprint(\"to \", self.rate)\n",
        "\t\telif mutation == 1 and self.rate <= 0.90:\n",
        "\t\t\tprint(\"-->changed self.rate from \", self.rate, \" \", end=\"\")\n",
        "\t\t\tself.rate = self.rate + 0.05\n",
        "\t\t\tprint(\"to \", self.rate)\n",
        "\t\telif mutation == 2 and self.rate >= 0.15:\n",
        "\t\t\tprint(\"-->changed self.rate from \", self.rate, \" \", end=\"\")\n",
        "\t\t\tself.rate = self.rate - 0.10\n",
        "\t\t\tprint(\"to \", self.rate)\n",
        "\t\telif mutation == 3 and self.rate >= 0.10:\n",
        "\t\t\tprint(\"-->changed self.rate from \", self.rate, \" \", end=\"\")\n",
        "\t\t\tself.rate = self.rate - 0.05\n",
        "\t\t\tprint(\"to \", self.rate)\n",
        "import tensorflow as tf\n",
        "import os\n",
        "\n",
        "from keras.callbacks import Callback\n",
        "\n",
        "from keras.models import Sequential\n",
        "from random import randint, choice\n",
        "from copy import deepcopy\n",
        "\n",
        "\n",
        "class Network:\n",
        "    __slots__ = ('name', 'block_list', 'fitness', 'model')\n",
        "\n",
        "    def __init__(self, it):\n",
        "        self.name = 'parent_' + str(it) if it == 0 else 'net_' + str(it)\n",
        "        self.block_list = []\n",
        "        self.fitness = None\n",
        "        self.model = None\n",
        "\n",
        "    def build_model(self):\n",
        "        model = Sequential()                                # create model\n",
        "        for block in self.block_list:\n",
        "            for layer in block.get_layers():                # build model\n",
        "                try:\n",
        "                    layer.build_layer(model)\n",
        "                except:\n",
        "                    print(\"\\nINDIVIDUAL ABORTED, CREATING A NEW ONE\\n\")\n",
        "                    return -1\n",
        "        return model\n",
        "\n",
        "    def train_and_evaluate(self, model, dataset):\n",
        "        print(\"Training\", self.name)\n",
        "        model.compile(optimizer='adam', loss='categorical_crossentropy', metrics=['accuracy'])\n",
        "\n",
        "        history = model.fit(dataset['gen_train'],\n",
        "                            batch_size=dataset['batch_size'],\n",
        "                            epochs=dataset['epochs'],\n",
        "                            validation_data=dataset['gen_valid'],\n",
        "                            shuffle=True)\n",
        "\n",
        "        self.model = model                                    # model\n",
        "        self.fitness = history.history['val_loss'][-1]        # fitness\n",
        "\n",
        "        print(\"SUMMARY OF\", self.name)\n",
        "        print(model.summary())\n",
        "        print(\"FITNESS: \", self.fitness)\n",
        "\n",
        "        model.save(self.name + '.h5')                       # save model\n",
        "        save_network(self)                                  # save topology, model and fitness\n",
        "\n",
        "    def asexual_reproduction(self, it, dataset):\n",
        "\n",
        "        # if the individual already exists, just load it\n",
        "        if os.path.isfile('net_' + str(it) + '.h5'):\n",
        "            print(\"\\n-------------------------------------\")\n",
        "            print(\"Loading individual net_\" + str(it))\n",
        "            print(\"--------------------------------------\\n\")\n",
        "            individual = load_network('net_' + str(it))\n",
        "            model = tf.keras.models.load_model(individual.name + '.h5')\n",
        "            print(\"SUMMARY OF\", individual.name)\n",
        "            print(model.summary())\n",
        "            print(\"FITNESS: \", individual.fitness)\n",
        "            return individual\n",
        "\n",
        "        # otherwise, create the individual by mutating the parent\n",
        "        individual = Network(it)\n",
        "\n",
        "        print(\"\\n-------------------------------------\")\n",
        "        print(\"\\nCreating individual\", individual.name)\n",
        "        print(\"--------------------------------------\\n\")\n",
        "\n",
        "        individual.block_list = deepcopy(self.block_list)           # copy the layer list from parent\n",
        "\n",
        "        print(\"----->Strong Mutation\")\n",
        "        individual.block_mutation(dataset)                          # mutate a block\n",
        "        individual.layer_mutation(dataset)                          # mutate a layer\n",
        "        individual.parameters_mutation()                            # mutate some parameters\n",
        "\n",
        "        model = individual.build_model()\n",
        "\n",
        "        if model == -1:\n",
        "            return self.asexual_reproduction(it, dataset)\n",
        "\n",
        "        individual.train_and_evaluate(model, dataset)\n",
        "\n",
        "        return individual\n",
        "\n",
        "    def block_mutation(self, dataset):\n",
        "        print(\"Block Mutation\")\n",
        "\n",
        "        print([(block.index, block.type) for block in self.block_list])\n",
        "\n",
        "        # block list containing all the blocks with type = 1\n",
        "        bl = [block.index for block in self.block_list if block.type == 1]\n",
        "\n",
        "        if len(bl) == 0:\n",
        "            print(\"Creating a new block with two Convolutional layers and a Pooling layer\")\n",
        "            self.block_list[1].index = 2\n",
        "            layerList1 = [\n",
        "                Convolutional(filters=pow(2, randint(5, 8)),\n",
        "                              filter_size=(3, 3),\n",
        "                              stride_size=(1, 1),\n",
        "                              padding='same',\n",
        "                              input_shape=(224, 224, 3)),\n",
        "                Convolutional(filters=pow(2, randint(5, 8)),\n",
        "                              filter_size=(3, 3),\n",
        "                              stride_size=(1, 1),\n",
        "                              padding='same',\n",
        "                              input_shape=(224, 224, 3))\n",
        "            ]\n",
        "            layerList2 = [\n",
        "                Pooling(pool_size=(2, 2),\n",
        "                        stride_size=(2, 2),\n",
        "                        padding='same')\n",
        "            ]\n",
        "            b = Block(1, 1, layerList1, layerList2)\n",
        "            self.block_list.insert(1, b)\n",
        "            return\n",
        "\n",
        "        block_idx = randint(1, max(bl))         # pick a random block among all the blocks with type = 1\n",
        "        block_type_idx = randint(0, 1)          # 1 -> Conv2D; 0 -> Pooling or Dropout\n",
        "        mutation_type = randint(0, 1)           # 1 -> remove; 0 -> add\n",
        "\n",
        "        # list of layers of the selected block\n",
        "        layerList = self.block_list[block_idx].layerList1 if block_type_idx else self.block_list[block_idx].layerList2\n",
        "        length = len(layerList)\n",
        "\n",
        "        if mutation_type:                                       # remove\n",
        "            if length == 1:\n",
        "                del self.block_list[block_idx]\n",
        "            elif block_type_idx:\n",
        "                pos = randint(0, length - 1)\n",
        "                print(\"Removing a Conv2D layer at\", pos)\n",
        "                del layerList[pos]\n",
        "            else:\n",
        "                pos = randint(0, length - 1)\n",
        "                print(\"Removing a Pooling/Dropout layer at\", pos)\n",
        "                del layerList[pos]\n",
        "        else:                                                   # add\n",
        "            if block_type_idx:\n",
        "                print(\"Inserting a Convolutional layer\")\n",
        "                layer = Convolutional(filters=pow(2, randint(5, 8)),\n",
        "                                      filter_size=(3, 3),\n",
        "                                      stride_size=(1, 1),\n",
        "                                      padding='same',\n",
        "                                      input_shape=(224, 224, 3))\n",
        "                layerList.insert(randint(0, length - 1), layer)\n",
        "            else:\n",
        "                if randint(0, 1):                               # 1 -> Pooling; 0 -> Dropout\n",
        "                    print(\"Inserting a Pooling layer\")\n",
        "                    layer = Pooling(pool_size=(2, 2),\n",
        "                                    stride_size=(2, 2),\n",
        "                                    padding='same')\n",
        "                    layerList.insert(randint(0, length - 1), layer)\n",
        "                else:\n",
        "                    print(\"Inserting a Dropout layer\")\n",
        "                    rate = choice([0.15, 0.25, 0.35, 0.50])\n",
        "                    layer = Dropout(rate=rate)\n",
        "                    layerList.insert(randint(0, length - 1), layer)\n",
        "\n",
        "    def layer_mutation(self, dataset):\n",
        "        print(\"Layer Mutation\")\n",
        "\n",
        "        # pick a random block among all the blocks with type = 1\n",
        "        bl = [block.index for block in self.block_list if block.type == 1]\n",
        "\n",
        "        if len(bl) == 0:\n",
        "            return\n",
        "\n",
        "        block_idx = randint(1, max(bl))\n",
        "        block_type_idx = randint(0, 1)      # 1 -> Conv2D; 0 -> Pooling or Dropout\n",
        "\n",
        "        # list of layers of the selected block\n",
        "        layerList = self.block_list[block_idx].layerList1 if block_type_idx else self.block_list[block_idx].layerList2\n",
        "\n",
        "        if len(layerList) == 0:\n",
        "            if block_type_idx:\n",
        "                layer = Convolutional(filters=pow(2, randint(5, 8)),\n",
        "                                      filter_size=(3, 3),\n",
        "                                      stride_size=(1, 1),\n",
        "                                      padding='same',\n",
        "                                      input_shape=(224, 224, 3))\n",
        "                self.block_list[block_idx].layerList1.append(layer)\n",
        "                return\n",
        "            else:\n",
        "                layer = Pooling(pool_size=(2, 2),\n",
        "                                stride_size=(2, 2),\n",
        "                                padding='same')\n",
        "                self.block_list[block_idx].layerList2.append(layer)\n",
        "\n",
        "        idx = randint(0, len(layerList) - 1)\n",
        "        layer = layerList[idx]\n",
        "\n",
        "        if layer.name == 'Conv2D':\n",
        "            print(\"Splitting Conv2D layer at index\", idx)\n",
        "            layer.filters = int(layer.filters * 0.5)\n",
        "            layerList.insert(idx, deepcopy(layer))\n",
        "        elif layer.name == 'MaxPooling2D' or layer.name == 'AveragePooling2D':\n",
        "            print(\"Changing Pooling layer at index\", idx, \"with Conv2D layer\")\n",
        "            del layerList[idx]\n",
        "            conv_layer = Convolutional(filters=pow(2, randint(5, 8)),\n",
        "                                       filter_size=(3, 3),\n",
        "                                       stride_size=(2, 2),\n",
        "                                       padding=layer.padding,\n",
        "                                       input_shape=(224, 224, 3))\n",
        "            layerList.insert(idx, conv_layer)\n",
        "\n",
        "    def parameters_mutation(self):\n",
        "        print(\"Parameters Mutation\")\n",
        "        for block in self.block_list:\n",
        "            for layer in block.get_layers():\n",
        "                if randint(0, 1):\n",
        "                    layer.mutate_parameters()"
      ],
      "metadata": {
        "id": "9FuA9jRW7F2U"
      },
      "execution_count": 9,
      "outputs": []
    },
    {
      "cell_type": "code",
      "source": [
        "import tensorflow as tf\n",
        "import os\n",
        "# from utilities import load_network\n",
        "# from topology import Block, Convolutional, Pooling, Dropout, FullyConnected\n",
        "# from network import Network\n",
        "\n",
        "\n",
        "def compute_parent(dataset):\n",
        "    if os.path.isfile('parent_0.h5'):\n",
        "        daddy = load_network('parent_0')\n",
        "        model = tf.keras.models.load_model('parent_0.h5')\n",
        "        print(\"Loading parent_0\")\n",
        "        print(\"SUMMARY OF\", daddy.name)\n",
        "        print(model.summary())\n",
        "        print(\"FITNESS:\", daddy.fitness)\n",
        "        return daddy\n",
        "\n",
        "    daddy = Network(0)\n",
        "\n",
        "    layerList1 = [\n",
        "        Convolutional(filters=32, filter_size=(3, 3), stride_size=(1, 1), padding='same',\n",
        "                      input_shape=(224, 224, 3)),\n",
        "        Convolutional(filters=32, filter_size=(3, 3), stride_size=(1, 1), padding='valid',\n",
        "                      input_shape=(224, 224, 3))\n",
        "    ]\n",
        "    layerList2 = [\n",
        "        Pooling(pool_size=(2, 2), stride_size=(2, 2), padding='same')\n",
        "    ]\n",
        "    daddy.block_list.append(Block(0, 0, layerList1, layerList2))\n",
        "\n",
        "    layerList1 = [\n",
        "        FullyConnected(units=128, num_classes=dataset['num_classes'])\n",
        "    ]\n",
        "    layerList2 = []\n",
        "    daddy.block_list.append(Block(2, 1, layerList1, layerList2))\n",
        "\n",
        "    model = daddy.build_model()\n",
        "    daddy.train_and_evaluate(model, dataset)\n",
        "    return daddy\n",
        "import tensorflow as tf\n",
        "import os\n",
        "# from network import Network\n",
        "# from inout import compute_parent\n",
        "from random import randint, sample\n",
        "# from utilities import load_dataset, order_indexes, plot_training, plot_statistics, load_network\n",
        "from copy import deepcopy\n",
        "\n",
        "tf.compat.v1.logging.set_verbosity(tf.compat.v1.logging.ERROR)      # suppress messages from Tensorflow\n",
        "os.environ['TF_CPP_MIN_LOG_LEVEL'] = '2'\n",
        "\n",
        "\n",
        "def initialize_population(population_size, dataset):\n",
        "    print(\"----->Initializing Population\")\n",
        "    daddy = compute_parent(dataset)                                 # load parent from input\n",
        "    population = [daddy]\n",
        "    for it in range(1, population_size):\n",
        "        population.append(daddy.asexual_reproduction(it, dataset))\n",
        "\n",
        "    # sort population on ascending order based on fitness\n",
        "    return sorted(population, key=lambda cnn: cnn.fitness)\n",
        "\n",
        "\n",
        "def selection(k, population, num_population):\n",
        "    if k == 0:                                              # elitism selection\n",
        "        print(\"----->Elitism selection\")\n",
        "        return population[0], population[1]\n",
        "    elif k == 1:                                            # tournament selection\n",
        "        print(\"----->Tournament selection\")\n",
        "        i = randint(0, num_population - 1)\n",
        "        j = i\n",
        "        while j < num_population - 1:\n",
        "            j += 1\n",
        "            if randint(1, 100) <= 50:\n",
        "                return population[i], population[j]\n",
        "        return population[i], population[0]\n",
        "    else:                                                   # proportionate selection\n",
        "        print(\"----->Proportionate selection\")\n",
        "        cum_sum = 0\n",
        "        for i in range(num_population):\n",
        "            cum_sum += population[i].fitness\n",
        "        perc_range = []\n",
        "        for i in range(num_population):\n",
        "            count = 100 - int(100 * population[i].fitness / cum_sum)\n",
        "            for j in range(count):\n",
        "                perc_range.append(i)\n",
        "        i, j = sample(range(1, len(perc_range)), 2)\n",
        "        while i == j:\n",
        "            i, j = sample(range(1, len(perc_range)), 2)\n",
        "        return population[perc_range[i]], population[perc_range[j]]\n",
        "\n",
        "\n",
        "def crossover(parent1, parent2, it):\n",
        "    print(\"----->Crossover\")\n",
        "    child = Network(it)\n",
        "\n",
        "    first, second = None, None\n",
        "    if randint(0, 1):\n",
        "        first = parent1\n",
        "        second = parent2\n",
        "    else:\n",
        "        first = parent2\n",
        "        second = parent1\n",
        "\n",
        "    child.block_list = deepcopy(first.block_list[:randint(1, len(first.block_list) - 1)]) \\\n",
        "                       + deepcopy(second.block_list[randint(1, len(second.block_list) - 1):])\n",
        "\n",
        "    order_indexes(child)                            # order the indexes of the blocks\n",
        "\n",
        "    return child\n",
        "\n",
        "\n",
        "def genetic_algorithm(num_population, num_generation, num_offspring, dataset):\n",
        "    print(\"Genetic Algorithm\")\n",
        "\n",
        "    population = initialize_population(num_population, dataset)\n",
        "\n",
        "    print(\"\\n-------------------------------------\")\n",
        "    print(\"Initial Population:\")\n",
        "    for cnn in population:\n",
        "        print(cnn.name, ': ', cnn.fitness)\n",
        "    print(\"--------------------------------------\\n\")\n",
        "\n",
        "    # for printing statistics about fitness and number of parameters of the best individual\n",
        "    stats = [(population[0].fitness, population[0].model.count_params())]\n",
        "\n",
        "    for gen in range(1, num_generation + 1):\n",
        "\n",
        "        '''\n",
        "            k is the selection parameter:\n",
        "                k = 0 -> elitism selection\n",
        "                k = 1 -> tournament selection\n",
        "                k = 2 -> proportionate selection\n",
        "        '''\n",
        "        k = randint(0, 2)\n",
        "\n",
        "        print(\"\\n------------------------------------\")\n",
        "        print(\"Generation\", gen)\n",
        "        print(\"-------------------------------------\")\n",
        "\n",
        "        for c in range(num_offspring):\n",
        "\n",
        "            print(\"\\nCreating Child\", c)\n",
        "\n",
        "            parent1, parent2 = selection(k, population, num_population)                 # selection\n",
        "            print(\"Selected\", parent1.name, \"and\", parent2.name, \"for reproduction\")\n",
        "\n",
        "            child = crossover(parent1, parent2, c + num_population)                     # crossover\n",
        "            print(\"Child has been created\")\n",
        "\n",
        "            print(\"----->Soft Mutation\")\n",
        "            child.layer_mutation(dataset)                                               # mutation\n",
        "            child.parameters_mutation()\n",
        "            print(\"Child has been mutated\")\n",
        "\n",
        "            model = child.build_model()                                                 # evaluation\n",
        "\n",
        "            while model == -1:\n",
        "                child = crossover(parent1, parent2, c + num_population)\n",
        "                child.block_mutation(dataset)\n",
        "                child.layer_mutation(dataset)\n",
        "                child.parameters_mutation()\n",
        "                model = child.build_model()\n",
        "\n",
        "            child.train_and_evaluate(model, dataset)\n",
        "\n",
        "            if child.fitness < population[-1].fitness:                                  # evolve population\n",
        "                print(\"----->Evolution: Child\", child.name, \"with fitness\", child.fitness, \"replaces parent \", end=\"\")\n",
        "                print(population[-1].name, \"with fitness\", population[-1].fitness)\n",
        "                name = population[-1].name\n",
        "                population[-1] = deepcopy(child)\n",
        "                population[-1].name = name\n",
        "                population = sorted(population, key=lambda net: net.fitness)\n",
        "            else:\n",
        "                print(\"----->Evolution: Child\", child.name, \"with fitness\", child.fitness, \"is discarded\")\n",
        "\n",
        "        stats.append((population[0].fitness, population[0].model.count_params()))\n",
        "\n",
        "    print(\"\\n\\n-------------------------------------\")\n",
        "    print(\"Final Population\")\n",
        "    print(\"-------------------------------------\\n\")\n",
        "    for cnn in population:\n",
        "        print(cnn.name, ': ', cnn.fitness)\n",
        "\n",
        "    print(\"\\n-------------------------------------\")\n",
        "    print(\"Stats\")\n",
        "    for i in range(len(stats)):\n",
        "        print(\"Best individual at generation\", i + 1, \"has fitness\", stats[i][0], \"and parameters\", stats[i][1])\n",
        "    print(\"-------------------------------------\\n\")\n",
        "\n",
        "    # plot the fitness and the number of parameters of the best individual at each iteration\n",
        "    plot_statistics(stats)\n",
        "\n",
        "    return population[0]\n",
        "\n",
        "\n",
        "def main():\n",
        "    batch_size = 1                         # the number of training examples in one forward/backward pass\n",
        "    num_classes = 4                        # number of cifar-10 dataset classes\n",
        "    epochs = 3                              # number of forward and backward passes of all the training examples\n",
        "\n",
        "    '''\n",
        "        dataset contains the hyper parameters for loading data and the dataset:\n",
        "            dataset = {\n",
        "                'batch_size': batch_size,\n",
        "                'num_classes': num_classes,\n",
        "                'epochs': epochs,\n",
        "                'x_train': x_train,\n",
        "                'x_test': x_test,\n",
        "                'y_train': y_train,\n",
        "                'y_test': y_test\n",
        "            }\n",
        "    '''\n",
        "    dataset = load_dataset(batch_size, num_classes, epochs)\n",
        "\n",
        "    num_population = 4\n",
        "    num_generation = 4\n",
        "    num_offspring = 2\n",
        "\n",
        "    # plot the best model obtained\n",
        "    optCNN = genetic_algorithm(num_population, num_generation, num_offspring, dataset)\n",
        "\n",
        "    # plot the training and validation loss and accuracy\n",
        "    num_epoch = 3\n",
        "    model = optCNN.build_model()\n",
        "    model.compile(optimizer='adam', loss='categorical_crossentropy', metrics=['accuracy'])\n",
        "    history = model.fit(dataset['gen_train'],\n",
        "                        batch_size=dataset['batch_size'],\n",
        "                        epochs=num_epoch,\n",
        "                        validation_data=dataset['gen_valid'],\n",
        "                        shuffle=True)\n",
        "    optCNN.model = model                                        # model\n",
        "    optCNN.fitness = history.history['val_loss'][-1]            # fitness\n",
        "\n",
        "    print(\"\\n\\n-------------------------------------\")\n",
        "    print(\"The initial CNN has been evolved successfully in the individual\", optCNN.name)\n",
        "    print(\"-------------------------------------\\n\")\n",
        "    daddy = load_network('parent_0')\n",
        "    model = tf.keras.models.load_model('parent_0.h5')\n",
        "    print(\"\\n\\n-------------------------------------\")\n",
        "    print(\"Summary of initial CNN\")\n",
        "    print(model.summary())\n",
        "    print(\"Fitness of initial CNN:\", daddy.fitness)\n",
        "\n",
        "    print(\"\\n\\n-------------------------------------\")\n",
        "    print(\"Summary of evolved individual\")\n",
        "    print(optCNN.model.summary())\n",
        "    print(\"Fitness of the evolved individual:\", optCNN.fitness)\n",
        "    print(\"-------------------------------------\\n\")\n",
        "\n",
        "    plot_training(history)\n",
        "\n",
        "\n",
        "if __name__ == '__main__':\n",
        "    main()"
      ],
      "metadata": {
        "id": "lNzoNGb57Lhg",
        "colab": {
          "base_uri": "https://localhost:8080/",
          "height": 1000
        },
        "outputId": "237795ab-ffd9-49f3-f7d2-d8b7435fb541"
      },
      "execution_count": null,
      "outputs": [
        {
          "metadata": {
            "tags": null
          },
          "name": "stdout",
          "output_type": "stream",
          "text": [
            "Genetic Algorithm\n",
            "----->Initializing Population\n"
          ]
        },
        {
          "metadata": {
            "tags": null
          },
          "name": "stderr",
          "output_type": "stream",
          "text": [
            "/usr/local/lib/python3.10/dist-packages/keras/src/layers/convolutional/base_conv.py:107: UserWarning: Do not pass an `input_shape`/`input_dim` argument to a layer. When using Sequential models, prefer using an `Input(shape)` object as the first layer in the model instead.\n",
            "  super().__init__(activity_regularizer=activity_regularizer, **kwargs)\n"
          ]
        },
        {
          "metadata": {
            "tags": null
          },
          "name": "stdout",
          "output_type": "stream",
          "text": [
            "Training parent_0\n",
            "Epoch 1/3\n"
          ]
        },
        {
          "metadata": {
            "tags": null
          },
          "name": "stderr",
          "output_type": "stream",
          "text": [
            "/usr/local/lib/python3.10/dist-packages/keras/src/trainers/data_adapters/py_dataset_adapter.py:121: UserWarning: Your `PyDataset` class should call `super().__init__(**kwargs)` in its constructor. `**kwargs` can include `workers`, `use_multiprocessing`, `max_queue_size`. Do not pass these arguments to `fit()`, as they will be ignored.\n",
            "  self._warn_if_super_not_called()\n"
          ]
        },
        {
          "metadata": {
            "tags": null
          },
          "name": "stdout",
          "output_type": "stream",
          "text": [
            "\u001b[1m582/582\u001b[0m \u001b[32m━━━━━━━━━━━━━━━━━━━━\u001b[0m\u001b[37m\u001b[0m \u001b[1m1362s\u001b[0m 2s/step - accuracy: 0.7093 - loss: 7.7815 - val_accuracy: 0.8855 - val_loss: 0.3542\n",
            "Epoch 2/3\n",
            "\u001b[1m582/582\u001b[0m \u001b[32m━━━━━━━━━━━━━━━━━━━━\u001b[0m\u001b[37m\u001b[0m \u001b[1m1178s\u001b[0m 2s/step - accuracy: 0.9659 - loss: 0.1050 - val_accuracy: 0.8677 - val_loss: 0.5267\n",
            "Epoch 3/3\n",
            "\u001b[1m582/582\u001b[0m \u001b[32m━━━━━━━━━━━━━━━━━━━━\u001b[0m\u001b[37m\u001b[0m \u001b[1m1122s\u001b[0m 2s/step - accuracy: 0.9873 - loss: 0.0473 - val_accuracy: 0.8957 - val_loss: 0.5263\n",
            "SUMMARY OF parent_0\n"
          ]
        },
        {
          "data": {
            "text/html": [
              "<pre style=\"white-space:pre;overflow-x:auto;line-height:normal;font-family:Menlo,'DejaVu Sans Mono',consolas,'Courier New',monospace\"><span style=\"font-weight: bold\">Model: \"sequential\"</span>\n",
              "</pre>\n"
            ],
            "text/plain": [
              "\u001b[1mModel: \"sequential\"\u001b[0m\n"
            ]
          },
          "metadata": {},
          "output_type": "display_data"
        },
        {
          "data": {
            "text/html": [
              "<pre style=\"white-space:pre;overflow-x:auto;line-height:normal;font-family:Menlo,'DejaVu Sans Mono',consolas,'Courier New',monospace\">┏━━━━━━━━━━━━━━━━━━━━━━━━━━━━━━━━━━━━━━┳━━━━━━━━━━━━━━━━━━━━━━━━━━━━━┳━━━━━━━━━━━━━━━━━┓\n",
              "┃<span style=\"font-weight: bold\"> Layer (type)                         </span>┃<span style=\"font-weight: bold\"> Output Shape                </span>┃<span style=\"font-weight: bold\">         Param # </span>┃\n",
              "┡━━━━━━━━━━━━━━━━━━━━━━━━━━━━━━━━━━━━━━╇━━━━━━━━━━━━━━━━━━━━━━━━━━━━━╇━━━━━━━━━━━━━━━━━┩\n",
              "│ conv2d (<span style=\"color: #0087ff; text-decoration-color: #0087ff\">Conv2D</span>)                      │ (<span style=\"color: #00d7ff; text-decoration-color: #00d7ff\">None</span>, <span style=\"color: #00af00; text-decoration-color: #00af00\">224</span>, <span style=\"color: #00af00; text-decoration-color: #00af00\">224</span>, <span style=\"color: #00af00; text-decoration-color: #00af00\">32</span>)        │             <span style=\"color: #00af00; text-decoration-color: #00af00\">896</span> │\n",
              "├──────────────────────────────────────┼─────────────────────────────┼─────────────────┤\n",
              "│ conv2d_1 (<span style=\"color: #0087ff; text-decoration-color: #0087ff\">Conv2D</span>)                    │ (<span style=\"color: #00d7ff; text-decoration-color: #00d7ff\">None</span>, <span style=\"color: #00af00; text-decoration-color: #00af00\">222</span>, <span style=\"color: #00af00; text-decoration-color: #00af00\">222</span>, <span style=\"color: #00af00; text-decoration-color: #00af00\">32</span>)        │           <span style=\"color: #00af00; text-decoration-color: #00af00\">9,248</span> │\n",
              "├──────────────────────────────────────┼─────────────────────────────┼─────────────────┤\n",
              "│ max_pooling2d (<span style=\"color: #0087ff; text-decoration-color: #0087ff\">MaxPooling2D</span>)         │ (<span style=\"color: #00d7ff; text-decoration-color: #00d7ff\">None</span>, <span style=\"color: #00af00; text-decoration-color: #00af00\">111</span>, <span style=\"color: #00af00; text-decoration-color: #00af00\">111</span>, <span style=\"color: #00af00; text-decoration-color: #00af00\">32</span>)        │               <span style=\"color: #00af00; text-decoration-color: #00af00\">0</span> │\n",
              "├──────────────────────────────────────┼─────────────────────────────┼─────────────────┤\n",
              "│ flatten (<span style=\"color: #0087ff; text-decoration-color: #0087ff\">Flatten</span>)                    │ (<span style=\"color: #00d7ff; text-decoration-color: #00d7ff\">None</span>, <span style=\"color: #00af00; text-decoration-color: #00af00\">394272</span>)              │               <span style=\"color: #00af00; text-decoration-color: #00af00\">0</span> │\n",
              "├──────────────────────────────────────┼─────────────────────────────┼─────────────────┤\n",
              "│ dense (<span style=\"color: #0087ff; text-decoration-color: #0087ff\">Dense</span>)                        │ (<span style=\"color: #00d7ff; text-decoration-color: #00d7ff\">None</span>, <span style=\"color: #00af00; text-decoration-color: #00af00\">128</span>)                 │      <span style=\"color: #00af00; text-decoration-color: #00af00\">50,466,944</span> │\n",
              "├──────────────────────────────────────┼─────────────────────────────┼─────────────────┤\n",
              "│ dense_1 (<span style=\"color: #0087ff; text-decoration-color: #0087ff\">Dense</span>)                      │ (<span style=\"color: #00d7ff; text-decoration-color: #00d7ff\">None</span>, <span style=\"color: #00af00; text-decoration-color: #00af00\">4</span>)                   │             <span style=\"color: #00af00; text-decoration-color: #00af00\">516</span> │\n",
              "└──────────────────────────────────────┴─────────────────────────────┴─────────────────┘\n",
              "</pre>\n"
            ],
            "text/plain": [
              "┏━━━━━━━━━━━━━━━━━━━━━━━━━━━━━━━━━━━━━━┳━━━━━━━━━━━━━━━━━━━━━━━━━━━━━┳━━━━━━━━━━━━━━━━━┓\n",
              "┃\u001b[1m \u001b[0m\u001b[1mLayer (type)                        \u001b[0m\u001b[1m \u001b[0m┃\u001b[1m \u001b[0m\u001b[1mOutput Shape               \u001b[0m\u001b[1m \u001b[0m┃\u001b[1m \u001b[0m\u001b[1m        Param #\u001b[0m\u001b[1m \u001b[0m┃\n",
              "┡━━━━━━━━━━━━━━━━━━━━━━━━━━━━━━━━━━━━━━╇━━━━━━━━━━━━━━━━━━━━━━━━━━━━━╇━━━━━━━━━━━━━━━━━┩\n",
              "│ conv2d (\u001b[38;5;33mConv2D\u001b[0m)                      │ (\u001b[38;5;45mNone\u001b[0m, \u001b[38;5;34m224\u001b[0m, \u001b[38;5;34m224\u001b[0m, \u001b[38;5;34m32\u001b[0m)        │             \u001b[38;5;34m896\u001b[0m │\n",
              "├──────────────────────────────────────┼─────────────────────────────┼─────────────────┤\n",
              "│ conv2d_1 (\u001b[38;5;33mConv2D\u001b[0m)                    │ (\u001b[38;5;45mNone\u001b[0m, \u001b[38;5;34m222\u001b[0m, \u001b[38;5;34m222\u001b[0m, \u001b[38;5;34m32\u001b[0m)        │           \u001b[38;5;34m9,248\u001b[0m │\n",
              "├──────────────────────────────────────┼─────────────────────────────┼─────────────────┤\n",
              "│ max_pooling2d (\u001b[38;5;33mMaxPooling2D\u001b[0m)         │ (\u001b[38;5;45mNone\u001b[0m, \u001b[38;5;34m111\u001b[0m, \u001b[38;5;34m111\u001b[0m, \u001b[38;5;34m32\u001b[0m)        │               \u001b[38;5;34m0\u001b[0m │\n",
              "├──────────────────────────────────────┼─────────────────────────────┼─────────────────┤\n",
              "│ flatten (\u001b[38;5;33mFlatten\u001b[0m)                    │ (\u001b[38;5;45mNone\u001b[0m, \u001b[38;5;34m394272\u001b[0m)              │               \u001b[38;5;34m0\u001b[0m │\n",
              "├──────────────────────────────────────┼─────────────────────────────┼─────────────────┤\n",
              "│ dense (\u001b[38;5;33mDense\u001b[0m)                        │ (\u001b[38;5;45mNone\u001b[0m, \u001b[38;5;34m128\u001b[0m)                 │      \u001b[38;5;34m50,466,944\u001b[0m │\n",
              "├──────────────────────────────────────┼─────────────────────────────┼─────────────────┤\n",
              "│ dense_1 (\u001b[38;5;33mDense\u001b[0m)                      │ (\u001b[38;5;45mNone\u001b[0m, \u001b[38;5;34m4\u001b[0m)                   │             \u001b[38;5;34m516\u001b[0m │\n",
              "└──────────────────────────────────────┴─────────────────────────────┴─────────────────┘\n"
            ]
          },
          "metadata": {},
          "output_type": "display_data"
        },
        {
          "data": {
            "text/html": [
              "<pre style=\"white-space:pre;overflow-x:auto;line-height:normal;font-family:Menlo,'DejaVu Sans Mono',consolas,'Courier New',monospace\"><span style=\"font-weight: bold\"> Total params: </span><span style=\"color: #00af00; text-decoration-color: #00af00\">151,432,814</span> (577.67 MB)\n",
              "</pre>\n"
            ],
            "text/plain": [
              "\u001b[1m Total params: \u001b[0m\u001b[38;5;34m151,432,814\u001b[0m (577.67 MB)\n"
            ]
          },
          "metadata": {},
          "output_type": "display_data"
        },
        {
          "data": {
            "text/html": [
              "<pre style=\"white-space:pre;overflow-x:auto;line-height:normal;font-family:Menlo,'DejaVu Sans Mono',consolas,'Courier New',monospace\"><span style=\"font-weight: bold\"> Trainable params: </span><span style=\"color: #00af00; text-decoration-color: #00af00\">50,477,604</span> (192.56 MB)\n",
              "</pre>\n"
            ],
            "text/plain": [
              "\u001b[1m Trainable params: \u001b[0m\u001b[38;5;34m50,477,604\u001b[0m (192.56 MB)\n"
            ]
          },
          "metadata": {},
          "output_type": "display_data"
        },
        {
          "data": {
            "text/html": [
              "<pre style=\"white-space:pre;overflow-x:auto;line-height:normal;font-family:Menlo,'DejaVu Sans Mono',consolas,'Courier New',monospace\"><span style=\"font-weight: bold\"> Non-trainable params: </span><span style=\"color: #00af00; text-decoration-color: #00af00\">0</span> (0.00 B)\n",
              "</pre>\n"
            ],
            "text/plain": [
              "\u001b[1m Non-trainable params: \u001b[0m\u001b[38;5;34m0\u001b[0m (0.00 B)\n"
            ]
          },
          "metadata": {},
          "output_type": "display_data"
        },
        {
          "data": {
            "text/html": [
              "<pre style=\"white-space:pre;overflow-x:auto;line-height:normal;font-family:Menlo,'DejaVu Sans Mono',consolas,'Courier New',monospace\"><span style=\"font-weight: bold\"> Optimizer params: </span><span style=\"color: #00af00; text-decoration-color: #00af00\">100,955,210</span> (385.11 MB)\n",
              "</pre>\n"
            ],
            "text/plain": [
              "\u001b[1m Optimizer params: \u001b[0m\u001b[38;5;34m100,955,210\u001b[0m (385.11 MB)\n"
            ]
          },
          "metadata": {},
          "output_type": "display_data"
        },
        {
          "metadata": {
            "tags": null
          },
          "name": "stderr",
          "output_type": "stream",
          "text": [
            "WARNING:absl:You are saving your model as an HDF5 file via `model.save()` or `keras.saving.save_model(model)`. This file format is considered legacy. We recommend using instead the native Keras format, e.g. `model.save('my_model.keras')` or `keras.saving.save_model(model, 'my_model.keras')`. \n"
          ]
        },
        {
          "metadata": {
            "tags": null
          },
          "name": "stdout",
          "output_type": "stream",
          "text": [
            "None\n",
            "FITNESS:  0.5262860059738159\n",
            "\n",
            "-------------------------------------\n",
            "\n",
            "Creating individual net_1\n",
            "--------------------------------------\n",
            "\n",
            "----->Strong Mutation\n",
            "Block Mutation\n",
            "[(0, 0), (1, 2)]\n",
            "Creating a new block with two Convolutional layers and a Pooling layer\n",
            "Layer Mutation\n",
            "Changing Pooling layer at index 0 with Conv2D layer\n",
            "Parameters Mutation\n",
            "Mutating MaxPooling2D layer:\n",
            "-->changed self.padding from  same  to  valid\n",
            "Mutating Conv2D layer:\n",
            "-->changed self.filters from  32  to  16\n",
            "Mutating Conv2D layer:\n",
            "-->changed self.padding from  same  to  valid\n",
            "Mutating FullyConnected layer:\n",
            "-->changed self.units from  128  to  256\n",
            "Training net_1\n",
            "Epoch 1/3\n",
            "\u001b[1m582/582\u001b[0m \u001b[32m━━━━━━━━━━━━━━━━━━━━\u001b[0m\u001b[37m\u001b[0m \u001b[1m1795s\u001b[0m 3s/step - accuracy: 0.6664 - loss: 1.8392 - val_accuracy: 0.8422 - val_loss: 0.4875\n",
            "Epoch 2/3\n",
            "\u001b[1m582/582\u001b[0m \u001b[32m━━━━━━━━━━━━━━━━━━━━\u001b[0m\u001b[37m\u001b[0m \u001b[1m1824s\u001b[0m 3s/step - accuracy: 0.9349 - loss: 0.2002 - val_accuracy: 0.8804 - val_loss: 0.4178\n",
            "Epoch 3/3\n",
            "\u001b[1m582/582\u001b[0m \u001b[32m━━━━━━━━━━━━━━━━━━━━\u001b[0m\u001b[37m\u001b[0m \u001b[1m1787s\u001b[0m 3s/step - accuracy: 0.9791 - loss: 0.0660 - val_accuracy: 0.8931 - val_loss: 0.5369\n",
            "SUMMARY OF net_1\n"
          ]
        },
        {
          "data": {
            "text/html": [
              "<pre style=\"white-space:pre;overflow-x:auto;line-height:normal;font-family:Menlo,'DejaVu Sans Mono',consolas,'Courier New',monospace\"><span style=\"font-weight: bold\">Model: \"sequential_1\"</span>\n",
              "</pre>\n"
            ],
            "text/plain": [
              "\u001b[1mModel: \"sequential_1\"\u001b[0m\n"
            ]
          },
          "metadata": {},
          "output_type": "display_data"
        },
        {
          "data": {
            "text/html": [
              "<pre style=\"white-space:pre;overflow-x:auto;line-height:normal;font-family:Menlo,'DejaVu Sans Mono',consolas,'Courier New',monospace\">┏━━━━━━━━━━━━━━━━━━━━━━━━━━━━━━━━━━━━━━┳━━━━━━━━━━━━━━━━━━━━━━━━━━━━━┳━━━━━━━━━━━━━━━━━┓\n",
              "┃<span style=\"font-weight: bold\"> Layer (type)                         </span>┃<span style=\"font-weight: bold\"> Output Shape                </span>┃<span style=\"font-weight: bold\">         Param # </span>┃\n",
              "┡━━━━━━━━━━━━━━━━━━━━━━━━━━━━━━━━━━━━━━╇━━━━━━━━━━━━━━━━━━━━━━━━━━━━━╇━━━━━━━━━━━━━━━━━┩\n",
              "│ conv2d_2 (<span style=\"color: #0087ff; text-decoration-color: #0087ff\">Conv2D</span>)                    │ (<span style=\"color: #00d7ff; text-decoration-color: #00d7ff\">None</span>, <span style=\"color: #00af00; text-decoration-color: #00af00\">224</span>, <span style=\"color: #00af00; text-decoration-color: #00af00\">224</span>, <span style=\"color: #00af00; text-decoration-color: #00af00\">32</span>)        │             <span style=\"color: #00af00; text-decoration-color: #00af00\">896</span> │\n",
              "├──────────────────────────────────────┼─────────────────────────────┼─────────────────┤\n",
              "│ conv2d_3 (<span style=\"color: #0087ff; text-decoration-color: #0087ff\">Conv2D</span>)                    │ (<span style=\"color: #00d7ff; text-decoration-color: #00d7ff\">None</span>, <span style=\"color: #00af00; text-decoration-color: #00af00\">222</span>, <span style=\"color: #00af00; text-decoration-color: #00af00\">222</span>, <span style=\"color: #00af00; text-decoration-color: #00af00\">32</span>)        │           <span style=\"color: #00af00; text-decoration-color: #00af00\">9,248</span> │\n",
              "├──────────────────────────────────────┼─────────────────────────────┼─────────────────┤\n",
              "│ max_pooling2d_1 (<span style=\"color: #0087ff; text-decoration-color: #0087ff\">MaxPooling2D</span>)       │ (<span style=\"color: #00d7ff; text-decoration-color: #00d7ff\">None</span>, <span style=\"color: #00af00; text-decoration-color: #00af00\">111</span>, <span style=\"color: #00af00; text-decoration-color: #00af00\">111</span>, <span style=\"color: #00af00; text-decoration-color: #00af00\">32</span>)        │               <span style=\"color: #00af00; text-decoration-color: #00af00\">0</span> │\n",
              "├──────────────────────────────────────┼─────────────────────────────┼─────────────────┤\n",
              "│ conv2d_4 (<span style=\"color: #0087ff; text-decoration-color: #0087ff\">Conv2D</span>)                    │ (<span style=\"color: #00d7ff; text-decoration-color: #00d7ff\">None</span>, <span style=\"color: #00af00; text-decoration-color: #00af00\">111</span>, <span style=\"color: #00af00; text-decoration-color: #00af00\">111</span>, <span style=\"color: #00af00; text-decoration-color: #00af00\">32</span>)        │           <span style=\"color: #00af00; text-decoration-color: #00af00\">9,248</span> │\n",
              "├──────────────────────────────────────┼─────────────────────────────┼─────────────────┤\n",
              "│ conv2d_5 (<span style=\"color: #0087ff; text-decoration-color: #0087ff\">Conv2D</span>)                    │ (<span style=\"color: #00d7ff; text-decoration-color: #00d7ff\">None</span>, <span style=\"color: #00af00; text-decoration-color: #00af00\">111</span>, <span style=\"color: #00af00; text-decoration-color: #00af00\">111</span>, <span style=\"color: #00af00; text-decoration-color: #00af00\">16</span>)        │           <span style=\"color: #00af00; text-decoration-color: #00af00\">4,624</span> │\n",
              "├──────────────────────────────────────┼─────────────────────────────┼─────────────────┤\n",
              "│ conv2d_6 (<span style=\"color: #0087ff; text-decoration-color: #0087ff\">Conv2D</span>)                    │ (<span style=\"color: #00d7ff; text-decoration-color: #00d7ff\">None</span>, <span style=\"color: #00af00; text-decoration-color: #00af00\">55</span>, <span style=\"color: #00af00; text-decoration-color: #00af00\">55</span>, <span style=\"color: #00af00; text-decoration-color: #00af00\">128</span>)         │          <span style=\"color: #00af00; text-decoration-color: #00af00\">18,560</span> │\n",
              "├──────────────────────────────────────┼─────────────────────────────┼─────────────────┤\n",
              "│ flatten_1 (<span style=\"color: #0087ff; text-decoration-color: #0087ff\">Flatten</span>)                  │ (<span style=\"color: #00d7ff; text-decoration-color: #00d7ff\">None</span>, <span style=\"color: #00af00; text-decoration-color: #00af00\">387200</span>)              │               <span style=\"color: #00af00; text-decoration-color: #00af00\">0</span> │\n",
              "├──────────────────────────────────────┼─────────────────────────────┼─────────────────┤\n",
              "│ dense_2 (<span style=\"color: #0087ff; text-decoration-color: #0087ff\">Dense</span>)                      │ (<span style=\"color: #00d7ff; text-decoration-color: #00d7ff\">None</span>, <span style=\"color: #00af00; text-decoration-color: #00af00\">256</span>)                 │      <span style=\"color: #00af00; text-decoration-color: #00af00\">99,123,456</span> │\n",
              "├──────────────────────────────────────┼─────────────────────────────┼─────────────────┤\n",
              "│ dense_3 (<span style=\"color: #0087ff; text-decoration-color: #0087ff\">Dense</span>)                      │ (<span style=\"color: #00d7ff; text-decoration-color: #00d7ff\">None</span>, <span style=\"color: #00af00; text-decoration-color: #00af00\">4</span>)                   │           <span style=\"color: #00af00; text-decoration-color: #00af00\">1,028</span> │\n",
              "└──────────────────────────────────────┴─────────────────────────────┴─────────────────┘\n",
              "</pre>\n"
            ],
            "text/plain": [
              "┏━━━━━━━━━━━━━━━━━━━━━━━━━━━━━━━━━━━━━━┳━━━━━━━━━━━━━━━━━━━━━━━━━━━━━┳━━━━━━━━━━━━━━━━━┓\n",
              "┃\u001b[1m \u001b[0m\u001b[1mLayer (type)                        \u001b[0m\u001b[1m \u001b[0m┃\u001b[1m \u001b[0m\u001b[1mOutput Shape               \u001b[0m\u001b[1m \u001b[0m┃\u001b[1m \u001b[0m\u001b[1m        Param #\u001b[0m\u001b[1m \u001b[0m┃\n",
              "┡━━━━━━━━━━━━━━━━━━━━━━━━━━━━━━━━━━━━━━╇━━━━━━━━━━━━━━━━━━━━━━━━━━━━━╇━━━━━━━━━━━━━━━━━┩\n",
              "│ conv2d_2 (\u001b[38;5;33mConv2D\u001b[0m)                    │ (\u001b[38;5;45mNone\u001b[0m, \u001b[38;5;34m224\u001b[0m, \u001b[38;5;34m224\u001b[0m, \u001b[38;5;34m32\u001b[0m)        │             \u001b[38;5;34m896\u001b[0m │\n",
              "├──────────────────────────────────────┼─────────────────────────────┼─────────────────┤\n",
              "│ conv2d_3 (\u001b[38;5;33mConv2D\u001b[0m)                    │ (\u001b[38;5;45mNone\u001b[0m, \u001b[38;5;34m222\u001b[0m, \u001b[38;5;34m222\u001b[0m, \u001b[38;5;34m32\u001b[0m)        │           \u001b[38;5;34m9,248\u001b[0m │\n",
              "├──────────────────────────────────────┼─────────────────────────────┼─────────────────┤\n",
              "│ max_pooling2d_1 (\u001b[38;5;33mMaxPooling2D\u001b[0m)       │ (\u001b[38;5;45mNone\u001b[0m, \u001b[38;5;34m111\u001b[0m, \u001b[38;5;34m111\u001b[0m, \u001b[38;5;34m32\u001b[0m)        │               \u001b[38;5;34m0\u001b[0m │\n",
              "├──────────────────────────────────────┼─────────────────────────────┼─────────────────┤\n",
              "│ conv2d_4 (\u001b[38;5;33mConv2D\u001b[0m)                    │ (\u001b[38;5;45mNone\u001b[0m, \u001b[38;5;34m111\u001b[0m, \u001b[38;5;34m111\u001b[0m, \u001b[38;5;34m32\u001b[0m)        │           \u001b[38;5;34m9,248\u001b[0m │\n",
              "├──────────────────────────────────────┼─────────────────────────────┼─────────────────┤\n",
              "│ conv2d_5 (\u001b[38;5;33mConv2D\u001b[0m)                    │ (\u001b[38;5;45mNone\u001b[0m, \u001b[38;5;34m111\u001b[0m, \u001b[38;5;34m111\u001b[0m, \u001b[38;5;34m16\u001b[0m)        │           \u001b[38;5;34m4,624\u001b[0m │\n",
              "├──────────────────────────────────────┼─────────────────────────────┼─────────────────┤\n",
              "│ conv2d_6 (\u001b[38;5;33mConv2D\u001b[0m)                    │ (\u001b[38;5;45mNone\u001b[0m, \u001b[38;5;34m55\u001b[0m, \u001b[38;5;34m55\u001b[0m, \u001b[38;5;34m128\u001b[0m)         │          \u001b[38;5;34m18,560\u001b[0m │\n",
              "├──────────────────────────────────────┼─────────────────────────────┼─────────────────┤\n",
              "│ flatten_1 (\u001b[38;5;33mFlatten\u001b[0m)                  │ (\u001b[38;5;45mNone\u001b[0m, \u001b[38;5;34m387200\u001b[0m)              │               \u001b[38;5;34m0\u001b[0m │\n",
              "├──────────────────────────────────────┼─────────────────────────────┼─────────────────┤\n",
              "│ dense_2 (\u001b[38;5;33mDense\u001b[0m)                      │ (\u001b[38;5;45mNone\u001b[0m, \u001b[38;5;34m256\u001b[0m)                 │      \u001b[38;5;34m99,123,456\u001b[0m │\n",
              "├──────────────────────────────────────┼─────────────────────────────┼─────────────────┤\n",
              "│ dense_3 (\u001b[38;5;33mDense\u001b[0m)                      │ (\u001b[38;5;45mNone\u001b[0m, \u001b[38;5;34m4\u001b[0m)                   │           \u001b[38;5;34m1,028\u001b[0m │\n",
              "└──────────────────────────────────────┴─────────────────────────────┴─────────────────┘\n"
            ]
          },
          "metadata": {},
          "output_type": "display_data"
        },
        {
          "data": {
            "text/html": [
              "<pre style=\"white-space:pre;overflow-x:auto;line-height:normal;font-family:Menlo,'DejaVu Sans Mono',consolas,'Courier New',monospace\"><span style=\"font-weight: bold\"> Total params: </span><span style=\"color: #00af00; text-decoration-color: #00af00\">297,501,182</span> (1.11 GB)\n",
              "</pre>\n"
            ],
            "text/plain": [
              "\u001b[1m Total params: \u001b[0m\u001b[38;5;34m297,501,182\u001b[0m (1.11 GB)\n"
            ]
          },
          "metadata": {},
          "output_type": "display_data"
        },
        {
          "data": {
            "text/html": [
              "<pre style=\"white-space:pre;overflow-x:auto;line-height:normal;font-family:Menlo,'DejaVu Sans Mono',consolas,'Courier New',monospace\"><span style=\"font-weight: bold\"> Trainable params: </span><span style=\"color: #00af00; text-decoration-color: #00af00\">99,167,060</span> (378.29 MB)\n",
              "</pre>\n"
            ],
            "text/plain": [
              "\u001b[1m Trainable params: \u001b[0m\u001b[38;5;34m99,167,060\u001b[0m (378.29 MB)\n"
            ]
          },
          "metadata": {},
          "output_type": "display_data"
        },
        {
          "data": {
            "text/html": [
              "<pre style=\"white-space:pre;overflow-x:auto;line-height:normal;font-family:Menlo,'DejaVu Sans Mono',consolas,'Courier New',monospace\"><span style=\"font-weight: bold\"> Non-trainable params: </span><span style=\"color: #00af00; text-decoration-color: #00af00\">0</span> (0.00 B)\n",
              "</pre>\n"
            ],
            "text/plain": [
              "\u001b[1m Non-trainable params: \u001b[0m\u001b[38;5;34m0\u001b[0m (0.00 B)\n"
            ]
          },
          "metadata": {},
          "output_type": "display_data"
        },
        {
          "data": {
            "text/html": [
              "<pre style=\"white-space:pre;overflow-x:auto;line-height:normal;font-family:Menlo,'DejaVu Sans Mono',consolas,'Courier New',monospace\"><span style=\"font-weight: bold\"> Optimizer params: </span><span style=\"color: #00af00; text-decoration-color: #00af00\">198,334,122</span> (756.58 MB)\n",
              "</pre>\n"
            ],
            "text/plain": [
              "\u001b[1m Optimizer params: \u001b[0m\u001b[38;5;34m198,334,122\u001b[0m (756.58 MB)\n"
            ]
          },
          "metadata": {},
          "output_type": "display_data"
        },
        {
          "metadata": {
            "tags": null
          },
          "name": "stderr",
          "output_type": "stream",
          "text": [
            "WARNING:absl:You are saving your model as an HDF5 file via `model.save()` or `keras.saving.save_model(model)`. This file format is considered legacy. We recommend using instead the native Keras format, e.g. `model.save('my_model.keras')` or `keras.saving.save_model(model, 'my_model.keras')`. \n"
          ]
        },
        {
          "metadata": {
            "tags": null
          },
          "name": "stdout",
          "output_type": "stream",
          "text": [
            "None\n",
            "FITNESS:  0.5369361042976379\n",
            "\n",
            "-------------------------------------\n",
            "\n",
            "Creating individual net_2\n",
            "--------------------------------------\n",
            "\n",
            "----->Strong Mutation\n",
            "Block Mutation\n",
            "[(0, 0), (1, 2)]\n",
            "Creating a new block with two Convolutional layers and a Pooling layer\n",
            "Layer Mutation\n",
            "Splitting Conv2D layer at index 1\n",
            "Parameters Mutation\n",
            "Mutating Conv2D layer:\n",
            "-->changed self.padding from  valid  to  same\n",
            "Mutating Conv2D layer:\n",
            "-->changed self.filters from  256  to  128\n",
            "Mutating Conv2D layer:\n",
            "Mutating MaxPooling2D layer:\n",
            "-->changed self.name from  MaxPooling2D  to  AveragePooling2D\n",
            "Mutating FullyConnected layer:\n",
            "-->changed self.units from  128  to  256\n",
            "Training net_2\n",
            "Epoch 1/3\n",
            "\u001b[1m582/582\u001b[0m \u001b[32m━━━━━━━━━━━━━━━━━━━━\u001b[0m\u001b[37m\u001b[0m \u001b[1m1438s\u001b[0m 2s/step - accuracy: 0.6789 - loss: 1.0583 - val_accuracy: 0.8053 - val_loss: 0.5036\n",
            "Epoch 2/3\n",
            "\u001b[1m582/582\u001b[0m \u001b[32m━━━━━━━━━━━━━━━━━━━━\u001b[0m\u001b[37m\u001b[0m \u001b[1m1459s\u001b[0m 2s/step - accuracy: 0.9275 - loss: 0.2098 - val_accuracy: 0.8575 - val_loss: 0.4257\n",
            "Epoch 3/3\n",
            "\u001b[1m582/582\u001b[0m \u001b[32m━━━━━━━━━━━━━━━━━━━━\u001b[0m\u001b[37m\u001b[0m \u001b[1m1453s\u001b[0m 2s/step - accuracy: 0.9683 - loss: 0.0845 - val_accuracy: 0.9071 - val_loss: 0.3288\n",
            "SUMMARY OF net_2\n"
          ]
        },
        {
          "data": {
            "text/html": [
              "<pre style=\"white-space:pre;overflow-x:auto;line-height:normal;font-family:Menlo,'DejaVu Sans Mono',consolas,'Courier New',monospace\"><span style=\"font-weight: bold\">Model: \"sequential_2\"</span>\n",
              "</pre>\n"
            ],
            "text/plain": [
              "\u001b[1mModel: \"sequential_2\"\u001b[0m\n"
            ]
          },
          "metadata": {},
          "output_type": "display_data"
        },
        {
          "data": {
            "text/html": [
              "<pre style=\"white-space:pre;overflow-x:auto;line-height:normal;font-family:Menlo,'DejaVu Sans Mono',consolas,'Courier New',monospace\">┏━━━━━━━━━━━━━━━━━━━━━━━━━━━━━━━━━━━━━━┳━━━━━━━━━━━━━━━━━━━━━━━━━━━━━┳━━━━━━━━━━━━━━━━━┓\n",
              "┃<span style=\"font-weight: bold\"> Layer (type)                         </span>┃<span style=\"font-weight: bold\"> Output Shape                </span>┃<span style=\"font-weight: bold\">         Param # </span>┃\n",
              "┡━━━━━━━━━━━━━━━━━━━━━━━━━━━━━━━━━━━━━━╇━━━━━━━━━━━━━━━━━━━━━━━━━━━━━╇━━━━━━━━━━━━━━━━━┩\n",
              "│ conv2d_7 (<span style=\"color: #0087ff; text-decoration-color: #0087ff\">Conv2D</span>)                    │ (<span style=\"color: #00d7ff; text-decoration-color: #00d7ff\">None</span>, <span style=\"color: #00af00; text-decoration-color: #00af00\">224</span>, <span style=\"color: #00af00; text-decoration-color: #00af00\">224</span>, <span style=\"color: #00af00; text-decoration-color: #00af00\">32</span>)        │             <span style=\"color: #00af00; text-decoration-color: #00af00\">896</span> │\n",
              "├──────────────────────────────────────┼─────────────────────────────┼─────────────────┤\n",
              "│ conv2d_8 (<span style=\"color: #0087ff; text-decoration-color: #0087ff\">Conv2D</span>)                    │ (<span style=\"color: #00d7ff; text-decoration-color: #00d7ff\">None</span>, <span style=\"color: #00af00; text-decoration-color: #00af00\">224</span>, <span style=\"color: #00af00; text-decoration-color: #00af00\">224</span>, <span style=\"color: #00af00; text-decoration-color: #00af00\">32</span>)        │           <span style=\"color: #00af00; text-decoration-color: #00af00\">9,248</span> │\n",
              "├──────────────────────────────────────┼─────────────────────────────┼─────────────────┤\n",
              "│ max_pooling2d_2 (<span style=\"color: #0087ff; text-decoration-color: #0087ff\">MaxPooling2D</span>)       │ (<span style=\"color: #00d7ff; text-decoration-color: #00d7ff\">None</span>, <span style=\"color: #00af00; text-decoration-color: #00af00\">112</span>, <span style=\"color: #00af00; text-decoration-color: #00af00\">112</span>, <span style=\"color: #00af00; text-decoration-color: #00af00\">32</span>)        │               <span style=\"color: #00af00; text-decoration-color: #00af00\">0</span> │\n",
              "├──────────────────────────────────────┼─────────────────────────────┼─────────────────┤\n",
              "│ conv2d_9 (<span style=\"color: #0087ff; text-decoration-color: #0087ff\">Conv2D</span>)                    │ (<span style=\"color: #00d7ff; text-decoration-color: #00d7ff\">None</span>, <span style=\"color: #00af00; text-decoration-color: #00af00\">112</span>, <span style=\"color: #00af00; text-decoration-color: #00af00\">112</span>, <span style=\"color: #00af00; text-decoration-color: #00af00\">128</span>)       │          <span style=\"color: #00af00; text-decoration-color: #00af00\">36,992</span> │\n",
              "├──────────────────────────────────────┼─────────────────────────────┼─────────────────┤\n",
              "│ conv2d_10 (<span style=\"color: #0087ff; text-decoration-color: #0087ff\">Conv2D</span>)                   │ (<span style=\"color: #00d7ff; text-decoration-color: #00d7ff\">None</span>, <span style=\"color: #00af00; text-decoration-color: #00af00\">112</span>, <span style=\"color: #00af00; text-decoration-color: #00af00\">112</span>, <span style=\"color: #00af00; text-decoration-color: #00af00\">16</span>)        │          <span style=\"color: #00af00; text-decoration-color: #00af00\">18,448</span> │\n",
              "├──────────────────────────────────────┼─────────────────────────────┼─────────────────┤\n",
              "│ conv2d_11 (<span style=\"color: #0087ff; text-decoration-color: #0087ff\">Conv2D</span>)                   │ (<span style=\"color: #00d7ff; text-decoration-color: #00d7ff\">None</span>, <span style=\"color: #00af00; text-decoration-color: #00af00\">112</span>, <span style=\"color: #00af00; text-decoration-color: #00af00\">112</span>, <span style=\"color: #00af00; text-decoration-color: #00af00\">16</span>)        │           <span style=\"color: #00af00; text-decoration-color: #00af00\">2,320</span> │\n",
              "├──────────────────────────────────────┼─────────────────────────────┼─────────────────┤\n",
              "│ average_pooling2d (<span style=\"color: #0087ff; text-decoration-color: #0087ff\">AveragePooling2D</span>) │ (<span style=\"color: #00d7ff; text-decoration-color: #00d7ff\">None</span>, <span style=\"color: #00af00; text-decoration-color: #00af00\">56</span>, <span style=\"color: #00af00; text-decoration-color: #00af00\">56</span>, <span style=\"color: #00af00; text-decoration-color: #00af00\">16</span>)          │               <span style=\"color: #00af00; text-decoration-color: #00af00\">0</span> │\n",
              "├──────────────────────────────────────┼─────────────────────────────┼─────────────────┤\n",
              "│ flatten_2 (<span style=\"color: #0087ff; text-decoration-color: #0087ff\">Flatten</span>)                  │ (<span style=\"color: #00d7ff; text-decoration-color: #00d7ff\">None</span>, <span style=\"color: #00af00; text-decoration-color: #00af00\">50176</span>)               │               <span style=\"color: #00af00; text-decoration-color: #00af00\">0</span> │\n",
              "├──────────────────────────────────────┼─────────────────────────────┼─────────────────┤\n",
              "│ dense_4 (<span style=\"color: #0087ff; text-decoration-color: #0087ff\">Dense</span>)                      │ (<span style=\"color: #00d7ff; text-decoration-color: #00d7ff\">None</span>, <span style=\"color: #00af00; text-decoration-color: #00af00\">256</span>)                 │      <span style=\"color: #00af00; text-decoration-color: #00af00\">12,845,312</span> │\n",
              "├──────────────────────────────────────┼─────────────────────────────┼─────────────────┤\n",
              "│ dense_5 (<span style=\"color: #0087ff; text-decoration-color: #0087ff\">Dense</span>)                      │ (<span style=\"color: #00d7ff; text-decoration-color: #00d7ff\">None</span>, <span style=\"color: #00af00; text-decoration-color: #00af00\">4</span>)                   │           <span style=\"color: #00af00; text-decoration-color: #00af00\">1,028</span> │\n",
              "└──────────────────────────────────────┴─────────────────────────────┴─────────────────┘\n",
              "</pre>\n"
            ],
            "text/plain": [
              "┏━━━━━━━━━━━━━━━━━━━━━━━━━━━━━━━━━━━━━━┳━━━━━━━━━━━━━━━━━━━━━━━━━━━━━┳━━━━━━━━━━━━━━━━━┓\n",
              "┃\u001b[1m \u001b[0m\u001b[1mLayer (type)                        \u001b[0m\u001b[1m \u001b[0m┃\u001b[1m \u001b[0m\u001b[1mOutput Shape               \u001b[0m\u001b[1m \u001b[0m┃\u001b[1m \u001b[0m\u001b[1m        Param #\u001b[0m\u001b[1m \u001b[0m┃\n",
              "┡━━━━━━━━━━━━━━━━━━━━━━━━━━━━━━━━━━━━━━╇━━━━━━━━━━━━━━━━━━━━━━━━━━━━━╇━━━━━━━━━━━━━━━━━┩\n",
              "│ conv2d_7 (\u001b[38;5;33mConv2D\u001b[0m)                    │ (\u001b[38;5;45mNone\u001b[0m, \u001b[38;5;34m224\u001b[0m, \u001b[38;5;34m224\u001b[0m, \u001b[38;5;34m32\u001b[0m)        │             \u001b[38;5;34m896\u001b[0m │\n",
              "├──────────────────────────────────────┼─────────────────────────────┼─────────────────┤\n",
              "│ conv2d_8 (\u001b[38;5;33mConv2D\u001b[0m)                    │ (\u001b[38;5;45mNone\u001b[0m, \u001b[38;5;34m224\u001b[0m, \u001b[38;5;34m224\u001b[0m, \u001b[38;5;34m32\u001b[0m)        │           \u001b[38;5;34m9,248\u001b[0m │\n",
              "├──────────────────────────────────────┼─────────────────────────────┼─────────────────┤\n",
              "│ max_pooling2d_2 (\u001b[38;5;33mMaxPooling2D\u001b[0m)       │ (\u001b[38;5;45mNone\u001b[0m, \u001b[38;5;34m112\u001b[0m, \u001b[38;5;34m112\u001b[0m, \u001b[38;5;34m32\u001b[0m)        │               \u001b[38;5;34m0\u001b[0m │\n",
              "├──────────────────────────────────────┼─────────────────────────────┼─────────────────┤\n",
              "│ conv2d_9 (\u001b[38;5;33mConv2D\u001b[0m)                    │ (\u001b[38;5;45mNone\u001b[0m, \u001b[38;5;34m112\u001b[0m, \u001b[38;5;34m112\u001b[0m, \u001b[38;5;34m128\u001b[0m)       │          \u001b[38;5;34m36,992\u001b[0m │\n",
              "├──────────────────────────────────────┼─────────────────────────────┼─────────────────┤\n",
              "│ conv2d_10 (\u001b[38;5;33mConv2D\u001b[0m)                   │ (\u001b[38;5;45mNone\u001b[0m, \u001b[38;5;34m112\u001b[0m, \u001b[38;5;34m112\u001b[0m, \u001b[38;5;34m16\u001b[0m)        │          \u001b[38;5;34m18,448\u001b[0m │\n",
              "├──────────────────────────────────────┼─────────────────────────────┼─────────────────┤\n",
              "│ conv2d_11 (\u001b[38;5;33mConv2D\u001b[0m)                   │ (\u001b[38;5;45mNone\u001b[0m, \u001b[38;5;34m112\u001b[0m, \u001b[38;5;34m112\u001b[0m, \u001b[38;5;34m16\u001b[0m)        │           \u001b[38;5;34m2,320\u001b[0m │\n",
              "├──────────────────────────────────────┼─────────────────────────────┼─────────────────┤\n",
              "│ average_pooling2d (\u001b[38;5;33mAveragePooling2D\u001b[0m) │ (\u001b[38;5;45mNone\u001b[0m, \u001b[38;5;34m56\u001b[0m, \u001b[38;5;34m56\u001b[0m, \u001b[38;5;34m16\u001b[0m)          │               \u001b[38;5;34m0\u001b[0m │\n",
              "├──────────────────────────────────────┼─────────────────────────────┼─────────────────┤\n",
              "│ flatten_2 (\u001b[38;5;33mFlatten\u001b[0m)                  │ (\u001b[38;5;45mNone\u001b[0m, \u001b[38;5;34m50176\u001b[0m)               │               \u001b[38;5;34m0\u001b[0m │\n",
              "├──────────────────────────────────────┼─────────────────────────────┼─────────────────┤\n",
              "│ dense_4 (\u001b[38;5;33mDense\u001b[0m)                      │ (\u001b[38;5;45mNone\u001b[0m, \u001b[38;5;34m256\u001b[0m)                 │      \u001b[38;5;34m12,845,312\u001b[0m │\n",
              "├──────────────────────────────────────┼─────────────────────────────┼─────────────────┤\n",
              "│ dense_5 (\u001b[38;5;33mDense\u001b[0m)                      │ (\u001b[38;5;45mNone\u001b[0m, \u001b[38;5;34m4\u001b[0m)                   │           \u001b[38;5;34m1,028\u001b[0m │\n",
              "└──────────────────────────────────────┴─────────────────────────────┴─────────────────┘\n"
            ]
          },
          "metadata": {},
          "output_type": "display_data"
        },
        {
          "data": {
            "text/html": [
              "<pre style=\"white-space:pre;overflow-x:auto;line-height:normal;font-family:Menlo,'DejaVu Sans Mono',consolas,'Courier New',monospace\"><span style=\"font-weight: bold\"> Total params: </span><span style=\"color: #00af00; text-decoration-color: #00af00\">38,742,734</span> (147.79 MB)\n",
              "</pre>\n"
            ],
            "text/plain": [
              "\u001b[1m Total params: \u001b[0m\u001b[38;5;34m38,742,734\u001b[0m (147.79 MB)\n"
            ]
          },
          "metadata": {},
          "output_type": "display_data"
        },
        {
          "data": {
            "text/html": [
              "<pre style=\"white-space:pre;overflow-x:auto;line-height:normal;font-family:Menlo,'DejaVu Sans Mono',consolas,'Courier New',monospace\"><span style=\"font-weight: bold\"> Trainable params: </span><span style=\"color: #00af00; text-decoration-color: #00af00\">12,914,244</span> (49.26 MB)\n",
              "</pre>\n"
            ],
            "text/plain": [
              "\u001b[1m Trainable params: \u001b[0m\u001b[38;5;34m12,914,244\u001b[0m (49.26 MB)\n"
            ]
          },
          "metadata": {},
          "output_type": "display_data"
        },
        {
          "data": {
            "text/html": [
              "<pre style=\"white-space:pre;overflow-x:auto;line-height:normal;font-family:Menlo,'DejaVu Sans Mono',consolas,'Courier New',monospace\"><span style=\"font-weight: bold\"> Non-trainable params: </span><span style=\"color: #00af00; text-decoration-color: #00af00\">0</span> (0.00 B)\n",
              "</pre>\n"
            ],
            "text/plain": [
              "\u001b[1m Non-trainable params: \u001b[0m\u001b[38;5;34m0\u001b[0m (0.00 B)\n"
            ]
          },
          "metadata": {},
          "output_type": "display_data"
        },
        {
          "data": {
            "text/html": [
              "<pre style=\"white-space:pre;overflow-x:auto;line-height:normal;font-family:Menlo,'DejaVu Sans Mono',consolas,'Courier New',monospace\"><span style=\"font-weight: bold\"> Optimizer params: </span><span style=\"color: #00af00; text-decoration-color: #00af00\">25,828,490</span> (98.53 MB)\n",
              "</pre>\n"
            ],
            "text/plain": [
              "\u001b[1m Optimizer params: \u001b[0m\u001b[38;5;34m25,828,490\u001b[0m (98.53 MB)\n"
            ]
          },
          "metadata": {},
          "output_type": "display_data"
        },
        {
          "metadata": {
            "tags": null
          },
          "name": "stderr",
          "output_type": "stream",
          "text": [
            "WARNING:absl:You are saving your model as an HDF5 file via `model.save()` or `keras.saving.save_model(model)`. This file format is considered legacy. We recommend using instead the native Keras format, e.g. `model.save('my_model.keras')` or `keras.saving.save_model(model, 'my_model.keras')`. \n"
          ]
        },
        {
          "metadata": {
            "tags": null
          },
          "name": "stdout",
          "output_type": "stream",
          "text": [
            "None\n",
            "FITNESS:  0.3288300037384033\n",
            "\n",
            "-------------------------------------\n",
            "\n",
            "Creating individual net_3\n",
            "--------------------------------------\n",
            "\n",
            "----->Strong Mutation\n",
            "Block Mutation\n",
            "[(0, 0), (1, 2)]\n",
            "Creating a new block with two Convolutional layers and a Pooling layer\n",
            "Layer Mutation\n",
            "Changing Pooling layer at index 0 with Conv2D layer\n",
            "Parameters Mutation\n",
            "Mutating Conv2D layer:\n",
            "-->changed self.filters from  32  to  16\n",
            "Mutating MaxPooling2D layer:\n",
            "-->changed self.name from  MaxPooling2D  to  AveragePooling2D\n",
            "Mutating Conv2D layer:\n",
            "-->changed self.filters from  128  to  64\n",
            "Mutating FullyConnected layer:\n",
            "-->changed self.units from  128  to  256\n",
            "Training net_3\n",
            "Epoch 1/3\n",
            "\u001b[1m582/582\u001b[0m \u001b[32m━━━━━━━━━━━━━━━━━━━━\u001b[0m\u001b[37m\u001b[0m \u001b[1m926s\u001b[0m 2s/step - accuracy: 0.6724 - loss: 0.9623 - val_accuracy: 0.8168 - val_loss: 0.5076\n",
            "Epoch 2/3\n",
            "\u001b[1m582/582\u001b[0m \u001b[32m━━━━━━━━━━━━━━━━━━━━\u001b[0m\u001b[37m\u001b[0m \u001b[1m965s\u001b[0m 2s/step - accuracy: 0.9401 - loss: 0.1726 - val_accuracy: 0.8740 - val_loss: 0.6502\n",
            "Epoch 3/3\n",
            "\u001b[1m582/582\u001b[0m \u001b[32m━━━━━━━━━━━━━━━━━━━━\u001b[0m\u001b[37m\u001b[0m \u001b[1m927s\u001b[0m 2s/step - accuracy: 0.9696 - loss: 0.0907 - val_accuracy: 0.8880 - val_loss: 0.4357\n",
            "SUMMARY OF net_3\n"
          ]
        },
        {
          "data": {
            "text/html": [
              "<pre style=\"white-space:pre;overflow-x:auto;line-height:normal;font-family:Menlo,'DejaVu Sans Mono',consolas,'Courier New',monospace\"><span style=\"font-weight: bold\">Model: \"sequential_3\"</span>\n",
              "</pre>\n"
            ],
            "text/plain": [
              "\u001b[1mModel: \"sequential_3\"\u001b[0m\n"
            ]
          },
          "metadata": {},
          "output_type": "display_data"
        },
        {
          "data": {
            "text/html": [
              "<pre style=\"white-space:pre;overflow-x:auto;line-height:normal;font-family:Menlo,'DejaVu Sans Mono',consolas,'Courier New',monospace\">┏━━━━━━━━━━━━━━━━━━━━━━━━━━━━━━━━━━━━━━┳━━━━━━━━━━━━━━━━━━━━━━━━━━━━━┳━━━━━━━━━━━━━━━━━┓\n",
              "┃<span style=\"font-weight: bold\"> Layer (type)                         </span>┃<span style=\"font-weight: bold\"> Output Shape                </span>┃<span style=\"font-weight: bold\">         Param # </span>┃\n",
              "┡━━━━━━━━━━━━━━━━━━━━━━━━━━━━━━━━━━━━━━╇━━━━━━━━━━━━━━━━━━━━━━━━━━━━━╇━━━━━━━━━━━━━━━━━┩\n",
              "│ conv2d_12 (<span style=\"color: #0087ff; text-decoration-color: #0087ff\">Conv2D</span>)                   │ (<span style=\"color: #00d7ff; text-decoration-color: #00d7ff\">None</span>, <span style=\"color: #00af00; text-decoration-color: #00af00\">224</span>, <span style=\"color: #00af00; text-decoration-color: #00af00\">224</span>, <span style=\"color: #00af00; text-decoration-color: #00af00\">16</span>)        │             <span style=\"color: #00af00; text-decoration-color: #00af00\">448</span> │\n",
              "├──────────────────────────────────────┼─────────────────────────────┼─────────────────┤\n",
              "│ conv2d_13 (<span style=\"color: #0087ff; text-decoration-color: #0087ff\">Conv2D</span>)                   │ (<span style=\"color: #00d7ff; text-decoration-color: #00d7ff\">None</span>, <span style=\"color: #00af00; text-decoration-color: #00af00\">222</span>, <span style=\"color: #00af00; text-decoration-color: #00af00\">222</span>, <span style=\"color: #00af00; text-decoration-color: #00af00\">32</span>)        │           <span style=\"color: #00af00; text-decoration-color: #00af00\">4,640</span> │\n",
              "├──────────────────────────────────────┼─────────────────────────────┼─────────────────┤\n",
              "│ average_pooling2d_1                  │ (<span style=\"color: #00d7ff; text-decoration-color: #00d7ff\">None</span>, <span style=\"color: #00af00; text-decoration-color: #00af00\">111</span>, <span style=\"color: #00af00; text-decoration-color: #00af00\">111</span>, <span style=\"color: #00af00; text-decoration-color: #00af00\">32</span>)        │               <span style=\"color: #00af00; text-decoration-color: #00af00\">0</span> │\n",
              "│ (<span style=\"color: #0087ff; text-decoration-color: #0087ff\">AveragePooling2D</span>)                   │                             │                 │\n",
              "├──────────────────────────────────────┼─────────────────────────────┼─────────────────┤\n",
              "│ conv2d_14 (<span style=\"color: #0087ff; text-decoration-color: #0087ff\">Conv2D</span>)                   │ (<span style=\"color: #00d7ff; text-decoration-color: #00d7ff\">None</span>, <span style=\"color: #00af00; text-decoration-color: #00af00\">111</span>, <span style=\"color: #00af00; text-decoration-color: #00af00\">111</span>, <span style=\"color: #00af00; text-decoration-color: #00af00\">32</span>)        │           <span style=\"color: #00af00; text-decoration-color: #00af00\">9,248</span> │\n",
              "├──────────────────────────────────────┼─────────────────────────────┼─────────────────┤\n",
              "│ conv2d_15 (<span style=\"color: #0087ff; text-decoration-color: #0087ff\">Conv2D</span>)                   │ (<span style=\"color: #00d7ff; text-decoration-color: #00d7ff\">None</span>, <span style=\"color: #00af00; text-decoration-color: #00af00\">111</span>, <span style=\"color: #00af00; text-decoration-color: #00af00\">111</span>, <span style=\"color: #00af00; text-decoration-color: #00af00\">64</span>)        │          <span style=\"color: #00af00; text-decoration-color: #00af00\">18,496</span> │\n",
              "├──────────────────────────────────────┼─────────────────────────────┼─────────────────┤\n",
              "│ conv2d_16 (<span style=\"color: #0087ff; text-decoration-color: #0087ff\">Conv2D</span>)                   │ (<span style=\"color: #00d7ff; text-decoration-color: #00d7ff\">None</span>, <span style=\"color: #00af00; text-decoration-color: #00af00\">56</span>, <span style=\"color: #00af00; text-decoration-color: #00af00\">56</span>, <span style=\"color: #00af00; text-decoration-color: #00af00\">32</span>)          │          <span style=\"color: #00af00; text-decoration-color: #00af00\">18,464</span> │\n",
              "├──────────────────────────────────────┼─────────────────────────────┼─────────────────┤\n",
              "│ flatten_3 (<span style=\"color: #0087ff; text-decoration-color: #0087ff\">Flatten</span>)                  │ (<span style=\"color: #00d7ff; text-decoration-color: #00d7ff\">None</span>, <span style=\"color: #00af00; text-decoration-color: #00af00\">100352</span>)              │               <span style=\"color: #00af00; text-decoration-color: #00af00\">0</span> │\n",
              "├──────────────────────────────────────┼─────────────────────────────┼─────────────────┤\n",
              "│ dense_6 (<span style=\"color: #0087ff; text-decoration-color: #0087ff\">Dense</span>)                      │ (<span style=\"color: #00d7ff; text-decoration-color: #00d7ff\">None</span>, <span style=\"color: #00af00; text-decoration-color: #00af00\">256</span>)                 │      <span style=\"color: #00af00; text-decoration-color: #00af00\">25,690,368</span> │\n",
              "├──────────────────────────────────────┼─────────────────────────────┼─────────────────┤\n",
              "│ dense_7 (<span style=\"color: #0087ff; text-decoration-color: #0087ff\">Dense</span>)                      │ (<span style=\"color: #00d7ff; text-decoration-color: #00d7ff\">None</span>, <span style=\"color: #00af00; text-decoration-color: #00af00\">4</span>)                   │           <span style=\"color: #00af00; text-decoration-color: #00af00\">1,028</span> │\n",
              "└──────────────────────────────────────┴─────────────────────────────┴─────────────────┘\n",
              "</pre>\n"
            ],
            "text/plain": [
              "┏━━━━━━━━━━━━━━━━━━━━━━━━━━━━━━━━━━━━━━┳━━━━━━━━━━━━━━━━━━━━━━━━━━━━━┳━━━━━━━━━━━━━━━━━┓\n",
              "┃\u001b[1m \u001b[0m\u001b[1mLayer (type)                        \u001b[0m\u001b[1m \u001b[0m┃\u001b[1m \u001b[0m\u001b[1mOutput Shape               \u001b[0m\u001b[1m \u001b[0m┃\u001b[1m \u001b[0m\u001b[1m        Param #\u001b[0m\u001b[1m \u001b[0m┃\n",
              "┡━━━━━━━━━━━━━━━━━━━━━━━━━━━━━━━━━━━━━━╇━━━━━━━━━━━━━━━━━━━━━━━━━━━━━╇━━━━━━━━━━━━━━━━━┩\n",
              "│ conv2d_12 (\u001b[38;5;33mConv2D\u001b[0m)                   │ (\u001b[38;5;45mNone\u001b[0m, \u001b[38;5;34m224\u001b[0m, \u001b[38;5;34m224\u001b[0m, \u001b[38;5;34m16\u001b[0m)        │             \u001b[38;5;34m448\u001b[0m │\n",
              "├──────────────────────────────────────┼─────────────────────────────┼─────────────────┤\n",
              "│ conv2d_13 (\u001b[38;5;33mConv2D\u001b[0m)                   │ (\u001b[38;5;45mNone\u001b[0m, \u001b[38;5;34m222\u001b[0m, \u001b[38;5;34m222\u001b[0m, \u001b[38;5;34m32\u001b[0m)        │           \u001b[38;5;34m4,640\u001b[0m │\n",
              "├──────────────────────────────────────┼─────────────────────────────┼─────────────────┤\n",
              "│ average_pooling2d_1                  │ (\u001b[38;5;45mNone\u001b[0m, \u001b[38;5;34m111\u001b[0m, \u001b[38;5;34m111\u001b[0m, \u001b[38;5;34m32\u001b[0m)        │               \u001b[38;5;34m0\u001b[0m │\n",
              "│ (\u001b[38;5;33mAveragePooling2D\u001b[0m)                   │                             │                 │\n",
              "├──────────────────────────────────────┼─────────────────────────────┼─────────────────┤\n",
              "│ conv2d_14 (\u001b[38;5;33mConv2D\u001b[0m)                   │ (\u001b[38;5;45mNone\u001b[0m, \u001b[38;5;34m111\u001b[0m, \u001b[38;5;34m111\u001b[0m, \u001b[38;5;34m32\u001b[0m)        │           \u001b[38;5;34m9,248\u001b[0m │\n",
              "├──────────────────────────────────────┼─────────────────────────────┼─────────────────┤\n",
              "│ conv2d_15 (\u001b[38;5;33mConv2D\u001b[0m)                   │ (\u001b[38;5;45mNone\u001b[0m, \u001b[38;5;34m111\u001b[0m, \u001b[38;5;34m111\u001b[0m, \u001b[38;5;34m64\u001b[0m)        │          \u001b[38;5;34m18,496\u001b[0m │\n",
              "├──────────────────────────────────────┼─────────────────────────────┼─────────────────┤\n",
              "│ conv2d_16 (\u001b[38;5;33mConv2D\u001b[0m)                   │ (\u001b[38;5;45mNone\u001b[0m, \u001b[38;5;34m56\u001b[0m, \u001b[38;5;34m56\u001b[0m, \u001b[38;5;34m32\u001b[0m)          │          \u001b[38;5;34m18,464\u001b[0m │\n",
              "├──────────────────────────────────────┼─────────────────────────────┼─────────────────┤\n",
              "│ flatten_3 (\u001b[38;5;33mFlatten\u001b[0m)                  │ (\u001b[38;5;45mNone\u001b[0m, \u001b[38;5;34m100352\u001b[0m)              │               \u001b[38;5;34m0\u001b[0m │\n",
              "├──────────────────────────────────────┼─────────────────────────────┼─────────────────┤\n",
              "│ dense_6 (\u001b[38;5;33mDense\u001b[0m)                      │ (\u001b[38;5;45mNone\u001b[0m, \u001b[38;5;34m256\u001b[0m)                 │      \u001b[38;5;34m25,690,368\u001b[0m │\n",
              "├──────────────────────────────────────┼─────────────────────────────┼─────────────────┤\n",
              "│ dense_7 (\u001b[38;5;33mDense\u001b[0m)                      │ (\u001b[38;5;45mNone\u001b[0m, \u001b[38;5;34m4\u001b[0m)                   │           \u001b[38;5;34m1,028\u001b[0m │\n",
              "└──────────────────────────────────────┴─────────────────────────────┴─────────────────┘\n"
            ]
          },
          "metadata": {},
          "output_type": "display_data"
        },
        {
          "data": {
            "text/html": [
              "<pre style=\"white-space:pre;overflow-x:auto;line-height:normal;font-family:Menlo,'DejaVu Sans Mono',consolas,'Courier New',monospace\"><span style=\"font-weight: bold\"> Total params: </span><span style=\"color: #00af00; text-decoration-color: #00af00\">77,228,078</span> (294.60 MB)\n",
              "</pre>\n"
            ],
            "text/plain": [
              "\u001b[1m Total params: \u001b[0m\u001b[38;5;34m77,228,078\u001b[0m (294.60 MB)\n"
            ]
          },
          "metadata": {},
          "output_type": "display_data"
        },
        {
          "data": {
            "text/html": [
              "<pre style=\"white-space:pre;overflow-x:auto;line-height:normal;font-family:Menlo,'DejaVu Sans Mono',consolas,'Courier New',monospace\"><span style=\"font-weight: bold\"> Trainable params: </span><span style=\"color: #00af00; text-decoration-color: #00af00\">25,742,692</span> (98.20 MB)\n",
              "</pre>\n"
            ],
            "text/plain": [
              "\u001b[1m Trainable params: \u001b[0m\u001b[38;5;34m25,742,692\u001b[0m (98.20 MB)\n"
            ]
          },
          "metadata": {},
          "output_type": "display_data"
        },
        {
          "data": {
            "text/html": [
              "<pre style=\"white-space:pre;overflow-x:auto;line-height:normal;font-family:Menlo,'DejaVu Sans Mono',consolas,'Courier New',monospace\"><span style=\"font-weight: bold\"> Non-trainable params: </span><span style=\"color: #00af00; text-decoration-color: #00af00\">0</span> (0.00 B)\n",
              "</pre>\n"
            ],
            "text/plain": [
              "\u001b[1m Non-trainable params: \u001b[0m\u001b[38;5;34m0\u001b[0m (0.00 B)\n"
            ]
          },
          "metadata": {},
          "output_type": "display_data"
        },
        {
          "data": {
            "text/html": [
              "<pre style=\"white-space:pre;overflow-x:auto;line-height:normal;font-family:Menlo,'DejaVu Sans Mono',consolas,'Courier New',monospace\"><span style=\"font-weight: bold\"> Optimizer params: </span><span style=\"color: #00af00; text-decoration-color: #00af00\">51,485,386</span> (196.40 MB)\n",
              "</pre>\n"
            ],
            "text/plain": [
              "\u001b[1m Optimizer params: \u001b[0m\u001b[38;5;34m51,485,386\u001b[0m (196.40 MB)\n"
            ]
          },
          "metadata": {},
          "output_type": "display_data"
        },
        {
          "metadata": {
            "tags": null
          },
          "name": "stderr",
          "output_type": "stream",
          "text": [
            "WARNING:absl:You are saving your model as an HDF5 file via `model.save()` or `keras.saving.save_model(model)`. This file format is considered legacy. We recommend using instead the native Keras format, e.g. `model.save('my_model.keras')` or `keras.saving.save_model(model, 'my_model.keras')`. \n"
          ]
        },
        {
          "metadata": {
            "tags": null
          },
          "name": "stdout",
          "output_type": "stream",
          "text": [
            "None\n",
            "FITNESS:  0.43567654490470886\n",
            "\n",
            "-------------------------------------\n",
            "Initial Population:\n",
            "net_2 :  0.3288300037384033\n",
            "net_3 :  0.43567654490470886\n",
            "parent_0 :  0.5262860059738159\n",
            "net_1 :  0.5369361042976379\n",
            "--------------------------------------\n",
            "\n",
            "\n",
            "------------------------------------\n",
            "Generation 1\n",
            "-------------------------------------\n",
            "\n",
            "Creating Child 0\n",
            "----->Elitism selection\n",
            "Selected net_2 and net_3 for reproduction\n",
            "----->Crossover\n",
            "Child has been created\n",
            "----->Soft Mutation\n",
            "Layer Mutation\n",
            "Splitting Conv2D layer at index 2\n",
            "Parameters Mutation\n",
            "Mutating Conv2D layer:\n",
            "-->changed self.filters from  32  to  64\n",
            "Mutating Conv2D layer:\n",
            "-->changed self.filters from  32  to  16\n",
            "Mutating Conv2D layer:\n",
            "Mutating Conv2D layer:\n",
            "-->changed self.padding from  same  to  valid\n",
            "Mutating AveragePooling2D layer:\n",
            "-->changed self.padding from  same  to  valid\n",
            "Child has been mutated\n",
            "Training net_4\n",
            "Epoch 1/3\n",
            "\u001b[1m582/582\u001b[0m \u001b[32m━━━━━━━━━━━━━━━━━━━━\u001b[0m\u001b[37m\u001b[0m \u001b[1m1590s\u001b[0m 3s/step - accuracy: 0.6522 - loss: 0.8563 - val_accuracy: 0.8359 - val_loss: 0.4782\n",
            "Epoch 2/3\n",
            "\u001b[1m582/582\u001b[0m \u001b[32m━━━━━━━━━━━━━━━━━━━━\u001b[0m\u001b[37m\u001b[0m \u001b[1m1573s\u001b[0m 3s/step - accuracy: 0.9346 - loss: 0.1971 - val_accuracy: 0.8855 - val_loss: 0.3631\n",
            "Epoch 3/3\n",
            "\u001b[1m582/582\u001b[0m \u001b[32m━━━━━━━━━━━━━━━━━━━━\u001b[0m\u001b[37m\u001b[0m \u001b[1m1578s\u001b[0m 3s/step - accuracy: 0.9741 - loss: 0.0810 - val_accuracy: 0.8740 - val_loss: 0.5959\n",
            "SUMMARY OF net_4\n"
          ]
        },
        {
          "data": {
            "text/html": [
              "<pre style=\"white-space:pre;overflow-x:auto;line-height:normal;font-family:Menlo,'DejaVu Sans Mono',consolas,'Courier New',monospace\"><span style=\"font-weight: bold\">Model: \"sequential_4\"</span>\n",
              "</pre>\n"
            ],
            "text/plain": [
              "\u001b[1mModel: \"sequential_4\"\u001b[0m\n"
            ]
          },
          "metadata": {},
          "output_type": "display_data"
        },
        {
          "data": {
            "text/html": [
              "<pre style=\"white-space:pre;overflow-x:auto;line-height:normal;font-family:Menlo,'DejaVu Sans Mono',consolas,'Courier New',monospace\">┏━━━━━━━━━━━━━━━━━━━━━━━━━━━━━━━━━━━━━━┳━━━━━━━━━━━━━━━━━━━━━━━━━━━━━┳━━━━━━━━━━━━━━━━━┓\n",
              "┃<span style=\"font-weight: bold\"> Layer (type)                         </span>┃<span style=\"font-weight: bold\"> Output Shape                </span>┃<span style=\"font-weight: bold\">         Param # </span>┃\n",
              "┡━━━━━━━━━━━━━━━━━━━━━━━━━━━━━━━━━━━━━━╇━━━━━━━━━━━━━━━━━━━━━━━━━━━━━╇━━━━━━━━━━━━━━━━━┩\n",
              "│ conv2d_17 (<span style=\"color: #0087ff; text-decoration-color: #0087ff\">Conv2D</span>)                   │ (<span style=\"color: #00d7ff; text-decoration-color: #00d7ff\">None</span>, <span style=\"color: #00af00; text-decoration-color: #00af00\">224</span>, <span style=\"color: #00af00; text-decoration-color: #00af00\">224</span>, <span style=\"color: #00af00; text-decoration-color: #00af00\">64</span>)        │           <span style=\"color: #00af00; text-decoration-color: #00af00\">1,792</span> │\n",
              "├──────────────────────────────────────┼─────────────────────────────┼─────────────────┤\n",
              "│ conv2d_18 (<span style=\"color: #0087ff; text-decoration-color: #0087ff\">Conv2D</span>)                   │ (<span style=\"color: #00d7ff; text-decoration-color: #00d7ff\">None</span>, <span style=\"color: #00af00; text-decoration-color: #00af00\">224</span>, <span style=\"color: #00af00; text-decoration-color: #00af00\">224</span>, <span style=\"color: #00af00; text-decoration-color: #00af00\">16</span>)        │           <span style=\"color: #00af00; text-decoration-color: #00af00\">9,232</span> │\n",
              "├──────────────────────────────────────┼─────────────────────────────┼─────────────────┤\n",
              "│ max_pooling2d_3 (<span style=\"color: #0087ff; text-decoration-color: #0087ff\">MaxPooling2D</span>)       │ (<span style=\"color: #00d7ff; text-decoration-color: #00d7ff\">None</span>, <span style=\"color: #00af00; text-decoration-color: #00af00\">112</span>, <span style=\"color: #00af00; text-decoration-color: #00af00\">112</span>, <span style=\"color: #00af00; text-decoration-color: #00af00\">16</span>)        │               <span style=\"color: #00af00; text-decoration-color: #00af00\">0</span> │\n",
              "├──────────────────────────────────────┼─────────────────────────────┼─────────────────┤\n",
              "│ conv2d_19 (<span style=\"color: #0087ff; text-decoration-color: #0087ff\">Conv2D</span>)                   │ (<span style=\"color: #00d7ff; text-decoration-color: #00d7ff\">None</span>, <span style=\"color: #00af00; text-decoration-color: #00af00\">112</span>, <span style=\"color: #00af00; text-decoration-color: #00af00\">112</span>, <span style=\"color: #00af00; text-decoration-color: #00af00\">128</span>)       │          <span style=\"color: #00af00; text-decoration-color: #00af00\">18,560</span> │\n",
              "├──────────────────────────────────────┼─────────────────────────────┼─────────────────┤\n",
              "│ conv2d_20 (<span style=\"color: #0087ff; text-decoration-color: #0087ff\">Conv2D</span>)                   │ (<span style=\"color: #00d7ff; text-decoration-color: #00d7ff\">None</span>, <span style=\"color: #00af00; text-decoration-color: #00af00\">112</span>, <span style=\"color: #00af00; text-decoration-color: #00af00\">112</span>, <span style=\"color: #00af00; text-decoration-color: #00af00\">16</span>)        │          <span style=\"color: #00af00; text-decoration-color: #00af00\">18,448</span> │\n",
              "├──────────────────────────────────────┼─────────────────────────────┼─────────────────┤\n",
              "│ conv2d_21 (<span style=\"color: #0087ff; text-decoration-color: #0087ff\">Conv2D</span>)                   │ (<span style=\"color: #00d7ff; text-decoration-color: #00d7ff\">None</span>, <span style=\"color: #00af00; text-decoration-color: #00af00\">110</span>, <span style=\"color: #00af00; text-decoration-color: #00af00\">110</span>, <span style=\"color: #00af00; text-decoration-color: #00af00\">8</span>)         │           <span style=\"color: #00af00; text-decoration-color: #00af00\">1,160</span> │\n",
              "├──────────────────────────────────────┼─────────────────────────────┼─────────────────┤\n",
              "│ conv2d_22 (<span style=\"color: #0087ff; text-decoration-color: #0087ff\">Conv2D</span>)                   │ (<span style=\"color: #00d7ff; text-decoration-color: #00d7ff\">None</span>, <span style=\"color: #00af00; text-decoration-color: #00af00\">110</span>, <span style=\"color: #00af00; text-decoration-color: #00af00\">110</span>, <span style=\"color: #00af00; text-decoration-color: #00af00\">8</span>)         │             <span style=\"color: #00af00; text-decoration-color: #00af00\">584</span> │\n",
              "├──────────────────────────────────────┼─────────────────────────────┼─────────────────┤\n",
              "│ average_pooling2d_2                  │ (<span style=\"color: #00d7ff; text-decoration-color: #00d7ff\">None</span>, <span style=\"color: #00af00; text-decoration-color: #00af00\">55</span>, <span style=\"color: #00af00; text-decoration-color: #00af00\">55</span>, <span style=\"color: #00af00; text-decoration-color: #00af00\">8</span>)           │               <span style=\"color: #00af00; text-decoration-color: #00af00\">0</span> │\n",
              "│ (<span style=\"color: #0087ff; text-decoration-color: #0087ff\">AveragePooling2D</span>)                   │                             │                 │\n",
              "├──────────────────────────────────────┼─────────────────────────────┼─────────────────┤\n",
              "│ flatten_4 (<span style=\"color: #0087ff; text-decoration-color: #0087ff\">Flatten</span>)                  │ (<span style=\"color: #00d7ff; text-decoration-color: #00d7ff\">None</span>, <span style=\"color: #00af00; text-decoration-color: #00af00\">24200</span>)               │               <span style=\"color: #00af00; text-decoration-color: #00af00\">0</span> │\n",
              "├──────────────────────────────────────┼─────────────────────────────┼─────────────────┤\n",
              "│ dense_8 (<span style=\"color: #0087ff; text-decoration-color: #0087ff\">Dense</span>)                      │ (<span style=\"color: #00d7ff; text-decoration-color: #00d7ff\">None</span>, <span style=\"color: #00af00; text-decoration-color: #00af00\">256</span>)                 │       <span style=\"color: #00af00; text-decoration-color: #00af00\">6,195,456</span> │\n",
              "├──────────────────────────────────────┼─────────────────────────────┼─────────────────┤\n",
              "│ dense_9 (<span style=\"color: #0087ff; text-decoration-color: #0087ff\">Dense</span>)                      │ (<span style=\"color: #00d7ff; text-decoration-color: #00d7ff\">None</span>, <span style=\"color: #00af00; text-decoration-color: #00af00\">4</span>)                   │           <span style=\"color: #00af00; text-decoration-color: #00af00\">1,028</span> │\n",
              "└──────────────────────────────────────┴─────────────────────────────┴─────────────────┘\n",
              "</pre>\n"
            ],
            "text/plain": [
              "┏━━━━━━━━━━━━━━━━━━━━━━━━━━━━━━━━━━━━━━┳━━━━━━━━━━━━━━━━━━━━━━━━━━━━━┳━━━━━━━━━━━━━━━━━┓\n",
              "┃\u001b[1m \u001b[0m\u001b[1mLayer (type)                        \u001b[0m\u001b[1m \u001b[0m┃\u001b[1m \u001b[0m\u001b[1mOutput Shape               \u001b[0m\u001b[1m \u001b[0m┃\u001b[1m \u001b[0m\u001b[1m        Param #\u001b[0m\u001b[1m \u001b[0m┃\n",
              "┡━━━━━━━━━━━━━━━━━━━━━━━━━━━━━━━━━━━━━━╇━━━━━━━━━━━━━━━━━━━━━━━━━━━━━╇━━━━━━━━━━━━━━━━━┩\n",
              "│ conv2d_17 (\u001b[38;5;33mConv2D\u001b[0m)                   │ (\u001b[38;5;45mNone\u001b[0m, \u001b[38;5;34m224\u001b[0m, \u001b[38;5;34m224\u001b[0m, \u001b[38;5;34m64\u001b[0m)        │           \u001b[38;5;34m1,792\u001b[0m │\n",
              "├──────────────────────────────────────┼─────────────────────────────┼─────────────────┤\n",
              "│ conv2d_18 (\u001b[38;5;33mConv2D\u001b[0m)                   │ (\u001b[38;5;45mNone\u001b[0m, \u001b[38;5;34m224\u001b[0m, \u001b[38;5;34m224\u001b[0m, \u001b[38;5;34m16\u001b[0m)        │           \u001b[38;5;34m9,232\u001b[0m │\n",
              "├──────────────────────────────────────┼─────────────────────────────┼─────────────────┤\n",
              "│ max_pooling2d_3 (\u001b[38;5;33mMaxPooling2D\u001b[0m)       │ (\u001b[38;5;45mNone\u001b[0m, \u001b[38;5;34m112\u001b[0m, \u001b[38;5;34m112\u001b[0m, \u001b[38;5;34m16\u001b[0m)        │               \u001b[38;5;34m0\u001b[0m │\n",
              "├──────────────────────────────────────┼─────────────────────────────┼─────────────────┤\n",
              "│ conv2d_19 (\u001b[38;5;33mConv2D\u001b[0m)                   │ (\u001b[38;5;45mNone\u001b[0m, \u001b[38;5;34m112\u001b[0m, \u001b[38;5;34m112\u001b[0m, \u001b[38;5;34m128\u001b[0m)       │          \u001b[38;5;34m18,560\u001b[0m │\n",
              "├──────────────────────────────────────┼─────────────────────────────┼─────────────────┤\n",
              "│ conv2d_20 (\u001b[38;5;33mConv2D\u001b[0m)                   │ (\u001b[38;5;45mNone\u001b[0m, \u001b[38;5;34m112\u001b[0m, \u001b[38;5;34m112\u001b[0m, \u001b[38;5;34m16\u001b[0m)        │          \u001b[38;5;34m18,448\u001b[0m │\n",
              "├──────────────────────────────────────┼─────────────────────────────┼─────────────────┤\n",
              "│ conv2d_21 (\u001b[38;5;33mConv2D\u001b[0m)                   │ (\u001b[38;5;45mNone\u001b[0m, \u001b[38;5;34m110\u001b[0m, \u001b[38;5;34m110\u001b[0m, \u001b[38;5;34m8\u001b[0m)         │           \u001b[38;5;34m1,160\u001b[0m │\n",
              "├──────────────────────────────────────┼─────────────────────────────┼─────────────────┤\n",
              "│ conv2d_22 (\u001b[38;5;33mConv2D\u001b[0m)                   │ (\u001b[38;5;45mNone\u001b[0m, \u001b[38;5;34m110\u001b[0m, \u001b[38;5;34m110\u001b[0m, \u001b[38;5;34m8\u001b[0m)         │             \u001b[38;5;34m584\u001b[0m │\n",
              "├──────────────────────────────────────┼─────────────────────────────┼─────────────────┤\n",
              "│ average_pooling2d_2                  │ (\u001b[38;5;45mNone\u001b[0m, \u001b[38;5;34m55\u001b[0m, \u001b[38;5;34m55\u001b[0m, \u001b[38;5;34m8\u001b[0m)           │               \u001b[38;5;34m0\u001b[0m │\n",
              "│ (\u001b[38;5;33mAveragePooling2D\u001b[0m)                   │                             │                 │\n",
              "├──────────────────────────────────────┼─────────────────────────────┼─────────────────┤\n",
              "│ flatten_4 (\u001b[38;5;33mFlatten\u001b[0m)                  │ (\u001b[38;5;45mNone\u001b[0m, \u001b[38;5;34m24200\u001b[0m)               │               \u001b[38;5;34m0\u001b[0m │\n",
              "├──────────────────────────────────────┼─────────────────────────────┼─────────────────┤\n",
              "│ dense_8 (\u001b[38;5;33mDense\u001b[0m)                      │ (\u001b[38;5;45mNone\u001b[0m, \u001b[38;5;34m256\u001b[0m)                 │       \u001b[38;5;34m6,195,456\u001b[0m │\n",
              "├──────────────────────────────────────┼─────────────────────────────┼─────────────────┤\n",
              "│ dense_9 (\u001b[38;5;33mDense\u001b[0m)                      │ (\u001b[38;5;45mNone\u001b[0m, \u001b[38;5;34m4\u001b[0m)                   │           \u001b[38;5;34m1,028\u001b[0m │\n",
              "└──────────────────────────────────────┴─────────────────────────────┴─────────────────┘\n"
            ]
          },
          "metadata": {},
          "output_type": "display_data"
        },
        {
          "data": {
            "text/html": [
              "<pre style=\"white-space:pre;overflow-x:auto;line-height:normal;font-family:Menlo,'DejaVu Sans Mono',consolas,'Courier New',monospace\"><span style=\"font-weight: bold\"> Total params: </span><span style=\"color: #00af00; text-decoration-color: #00af00\">18,738,782</span> (71.48 MB)\n",
              "</pre>\n"
            ],
            "text/plain": [
              "\u001b[1m Total params: \u001b[0m\u001b[38;5;34m18,738,782\u001b[0m (71.48 MB)\n"
            ]
          },
          "metadata": {},
          "output_type": "display_data"
        },
        {
          "data": {
            "text/html": [
              "<pre style=\"white-space:pre;overflow-x:auto;line-height:normal;font-family:Menlo,'DejaVu Sans Mono',consolas,'Courier New',monospace\"><span style=\"font-weight: bold\"> Trainable params: </span><span style=\"color: #00af00; text-decoration-color: #00af00\">6,246,260</span> (23.83 MB)\n",
              "</pre>\n"
            ],
            "text/plain": [
              "\u001b[1m Trainable params: \u001b[0m\u001b[38;5;34m6,246,260\u001b[0m (23.83 MB)\n"
            ]
          },
          "metadata": {},
          "output_type": "display_data"
        },
        {
          "data": {
            "text/html": [
              "<pre style=\"white-space:pre;overflow-x:auto;line-height:normal;font-family:Menlo,'DejaVu Sans Mono',consolas,'Courier New',monospace\"><span style=\"font-weight: bold\"> Non-trainable params: </span><span style=\"color: #00af00; text-decoration-color: #00af00\">0</span> (0.00 B)\n",
              "</pre>\n"
            ],
            "text/plain": [
              "\u001b[1m Non-trainable params: \u001b[0m\u001b[38;5;34m0\u001b[0m (0.00 B)\n"
            ]
          },
          "metadata": {},
          "output_type": "display_data"
        },
        {
          "data": {
            "text/html": [
              "<pre style=\"white-space:pre;overflow-x:auto;line-height:normal;font-family:Menlo,'DejaVu Sans Mono',consolas,'Courier New',monospace\"><span style=\"font-weight: bold\"> Optimizer params: </span><span style=\"color: #00af00; text-decoration-color: #00af00\">12,492,522</span> (47.66 MB)\n",
              "</pre>\n"
            ],
            "text/plain": [
              "\u001b[1m Optimizer params: \u001b[0m\u001b[38;5;34m12,492,522\u001b[0m (47.66 MB)\n"
            ]
          },
          "metadata": {},
          "output_type": "display_data"
        },
        {
          "metadata": {
            "tags": null
          },
          "name": "stderr",
          "output_type": "stream",
          "text": [
            "WARNING:absl:You are saving your model as an HDF5 file via `model.save()` or `keras.saving.save_model(model)`. This file format is considered legacy. We recommend using instead the native Keras format, e.g. `model.save('my_model.keras')` or `keras.saving.save_model(model, 'my_model.keras')`. \n"
          ]
        },
        {
          "metadata": {
            "tags": null
          },
          "name": "stdout",
          "output_type": "stream",
          "text": [
            "None\n",
            "FITNESS:  0.5958955883979797\n",
            "----->Evolution: Child net_4 with fitness 0.5958955883979797 is discarded\n",
            "\n",
            "Creating Child 1\n",
            "----->Elitism selection\n",
            "Selected net_2 and net_3 for reproduction\n",
            "----->Crossover\n",
            "Child has been created\n",
            "----->Soft Mutation\n",
            "Layer Mutation\n",
            "Splitting Conv2D layer at index 0\n",
            "Parameters Mutation\n",
            "Mutating Conv2D layer:\n",
            "-->changed self.padding from  same  to  valid\n",
            "Mutating AveragePooling2D layer:\n",
            "-->changed self.name from  AveragePooling2D  to  MaxPooling2D\n",
            "Mutating Conv2D layer:\n",
            "-->changed self.padding from  same  to  valid\n",
            "Mutating Conv2D layer:\n",
            "-->changed self.filters from  16  to  32\n",
            "Mutating Conv2D layer:\n",
            "Mutating FullyConnected layer:\n",
            "-->changed self.units from  256  to  512\n",
            "Child has been mutated\n",
            "Training net_5\n",
            "Epoch 1/3\n",
            "\u001b[1m582/582\u001b[0m \u001b[32m━━━━━━━━━━━━━━━━━━━━\u001b[0m\u001b[37m\u001b[0m \u001b[1m1340s\u001b[0m 2s/step - accuracy: 0.6606 - loss: 0.9748 - val_accuracy: 0.8104 - val_loss: 0.4910\n",
            "Epoch 2/3\n",
            "\u001b[1m582/582\u001b[0m \u001b[32m━━━━━━━━━━━━━━━━━━━━\u001b[0m\u001b[37m\u001b[0m \u001b[1m1372s\u001b[0m 2s/step - accuracy: 0.9251 - loss: 0.2166 - val_accuracy: 0.8728 - val_loss: 0.3274\n",
            "Epoch 3/3\n",
            "\u001b[1m582/582\u001b[0m \u001b[32m━━━━━━━━━━━━━━━━━━━━\u001b[0m\u001b[37m\u001b[0m \u001b[1m1336s\u001b[0m 2s/step - accuracy: 0.9657 - loss: 0.1060 - val_accuracy: 0.8982 - val_loss: 0.3280\n",
            "SUMMARY OF net_5\n"
          ]
        },
        {
          "data": {
            "text/html": [
              "<pre style=\"white-space:pre;overflow-x:auto;line-height:normal;font-family:Menlo,'DejaVu Sans Mono',consolas,'Courier New',monospace\"><span style=\"font-weight: bold\">Model: \"sequential_5\"</span>\n",
              "</pre>\n"
            ],
            "text/plain": [
              "\u001b[1mModel: \"sequential_5\"\u001b[0m\n"
            ]
          },
          "metadata": {},
          "output_type": "display_data"
        },
        {
          "data": {
            "text/html": [
              "<pre style=\"white-space:pre;overflow-x:auto;line-height:normal;font-family:Menlo,'DejaVu Sans Mono',consolas,'Courier New',monospace\">┏━━━━━━━━━━━━━━━━━━━━━━━━━━━━━━━━━━━━━━┳━━━━━━━━━━━━━━━━━━━━━━━━━━━━━┳━━━━━━━━━━━━━━━━━┓\n",
              "┃<span style=\"font-weight: bold\"> Layer (type)                         </span>┃<span style=\"font-weight: bold\"> Output Shape                </span>┃<span style=\"font-weight: bold\">         Param # </span>┃\n",
              "┡━━━━━━━━━━━━━━━━━━━━━━━━━━━━━━━━━━━━━━╇━━━━━━━━━━━━━━━━━━━━━━━━━━━━━╇━━━━━━━━━━━━━━━━━┩\n",
              "│ conv2d_23 (<span style=\"color: #0087ff; text-decoration-color: #0087ff\">Conv2D</span>)                   │ (<span style=\"color: #00d7ff; text-decoration-color: #00d7ff\">None</span>, <span style=\"color: #00af00; text-decoration-color: #00af00\">222</span>, <span style=\"color: #00af00; text-decoration-color: #00af00\">222</span>, <span style=\"color: #00af00; text-decoration-color: #00af00\">16</span>)        │             <span style=\"color: #00af00; text-decoration-color: #00af00\">448</span> │\n",
              "├──────────────────────────────────────┼─────────────────────────────┼─────────────────┤\n",
              "│ conv2d_24 (<span style=\"color: #0087ff; text-decoration-color: #0087ff\">Conv2D</span>)                   │ (<span style=\"color: #00d7ff; text-decoration-color: #00d7ff\">None</span>, <span style=\"color: #00af00; text-decoration-color: #00af00\">220</span>, <span style=\"color: #00af00; text-decoration-color: #00af00\">220</span>, <span style=\"color: #00af00; text-decoration-color: #00af00\">32</span>)        │           <span style=\"color: #00af00; text-decoration-color: #00af00\">4,640</span> │\n",
              "├──────────────────────────────────────┼─────────────────────────────┼─────────────────┤\n",
              "│ max_pooling2d_4 (<span style=\"color: #0087ff; text-decoration-color: #0087ff\">MaxPooling2D</span>)       │ (<span style=\"color: #00d7ff; text-decoration-color: #00d7ff\">None</span>, <span style=\"color: #00af00; text-decoration-color: #00af00\">110</span>, <span style=\"color: #00af00; text-decoration-color: #00af00\">110</span>, <span style=\"color: #00af00; text-decoration-color: #00af00\">32</span>)        │               <span style=\"color: #00af00; text-decoration-color: #00af00\">0</span> │\n",
              "├──────────────────────────────────────┼─────────────────────────────┼─────────────────┤\n",
              "│ conv2d_25 (<span style=\"color: #0087ff; text-decoration-color: #0087ff\">Conv2D</span>)                   │ (<span style=\"color: #00d7ff; text-decoration-color: #00d7ff\">None</span>, <span style=\"color: #00af00; text-decoration-color: #00af00\">108</span>, <span style=\"color: #00af00; text-decoration-color: #00af00\">108</span>, <span style=\"color: #00af00; text-decoration-color: #00af00\">64</span>)        │          <span style=\"color: #00af00; text-decoration-color: #00af00\">18,496</span> │\n",
              "├──────────────────────────────────────┼─────────────────────────────┼─────────────────┤\n",
              "│ conv2d_26 (<span style=\"color: #0087ff; text-decoration-color: #0087ff\">Conv2D</span>)                   │ (<span style=\"color: #00d7ff; text-decoration-color: #00d7ff\">None</span>, <span style=\"color: #00af00; text-decoration-color: #00af00\">108</span>, <span style=\"color: #00af00; text-decoration-color: #00af00\">108</span>, <span style=\"color: #00af00; text-decoration-color: #00af00\">64</span>)        │          <span style=\"color: #00af00; text-decoration-color: #00af00\">36,928</span> │\n",
              "├──────────────────────────────────────┼─────────────────────────────┼─────────────────┤\n",
              "│ conv2d_27 (<span style=\"color: #0087ff; text-decoration-color: #0087ff\">Conv2D</span>)                   │ (<span style=\"color: #00d7ff; text-decoration-color: #00d7ff\">None</span>, <span style=\"color: #00af00; text-decoration-color: #00af00\">108</span>, <span style=\"color: #00af00; text-decoration-color: #00af00\">108</span>, <span style=\"color: #00af00; text-decoration-color: #00af00\">32</span>)        │          <span style=\"color: #00af00; text-decoration-color: #00af00\">18,464</span> │\n",
              "├──────────────────────────────────────┼─────────────────────────────┼─────────────────┤\n",
              "│ conv2d_28 (<span style=\"color: #0087ff; text-decoration-color: #0087ff\">Conv2D</span>)                   │ (<span style=\"color: #00d7ff; text-decoration-color: #00d7ff\">None</span>, <span style=\"color: #00af00; text-decoration-color: #00af00\">108</span>, <span style=\"color: #00af00; text-decoration-color: #00af00\">108</span>, <span style=\"color: #00af00; text-decoration-color: #00af00\">16</span>)        │           <span style=\"color: #00af00; text-decoration-color: #00af00\">4,624</span> │\n",
              "├──────────────────────────────────────┼─────────────────────────────┼─────────────────┤\n",
              "│ average_pooling2d_3                  │ (<span style=\"color: #00d7ff; text-decoration-color: #00d7ff\">None</span>, <span style=\"color: #00af00; text-decoration-color: #00af00\">54</span>, <span style=\"color: #00af00; text-decoration-color: #00af00\">54</span>, <span style=\"color: #00af00; text-decoration-color: #00af00\">16</span>)          │               <span style=\"color: #00af00; text-decoration-color: #00af00\">0</span> │\n",
              "│ (<span style=\"color: #0087ff; text-decoration-color: #0087ff\">AveragePooling2D</span>)                   │                             │                 │\n",
              "├──────────────────────────────────────┼─────────────────────────────┼─────────────────┤\n",
              "│ flatten_5 (<span style=\"color: #0087ff; text-decoration-color: #0087ff\">Flatten</span>)                  │ (<span style=\"color: #00d7ff; text-decoration-color: #00d7ff\">None</span>, <span style=\"color: #00af00; text-decoration-color: #00af00\">46656</span>)               │               <span style=\"color: #00af00; text-decoration-color: #00af00\">0</span> │\n",
              "├──────────────────────────────────────┼─────────────────────────────┼─────────────────┤\n",
              "│ dense_10 (<span style=\"color: #0087ff; text-decoration-color: #0087ff\">Dense</span>)                     │ (<span style=\"color: #00d7ff; text-decoration-color: #00d7ff\">None</span>, <span style=\"color: #00af00; text-decoration-color: #00af00\">512</span>)                 │      <span style=\"color: #00af00; text-decoration-color: #00af00\">23,888,384</span> │\n",
              "├──────────────────────────────────────┼─────────────────────────────┼─────────────────┤\n",
              "│ dense_11 (<span style=\"color: #0087ff; text-decoration-color: #0087ff\">Dense</span>)                     │ (<span style=\"color: #00d7ff; text-decoration-color: #00d7ff\">None</span>, <span style=\"color: #00af00; text-decoration-color: #00af00\">4</span>)                   │           <span style=\"color: #00af00; text-decoration-color: #00af00\">2,052</span> │\n",
              "└──────────────────────────────────────┴─────────────────────────────┴─────────────────┘\n",
              "</pre>\n"
            ],
            "text/plain": [
              "┏━━━━━━━━━━━━━━━━━━━━━━━━━━━━━━━━━━━━━━┳━━━━━━━━━━━━━━━━━━━━━━━━━━━━━┳━━━━━━━━━━━━━━━━━┓\n",
              "┃\u001b[1m \u001b[0m\u001b[1mLayer (type)                        \u001b[0m\u001b[1m \u001b[0m┃\u001b[1m \u001b[0m\u001b[1mOutput Shape               \u001b[0m\u001b[1m \u001b[0m┃\u001b[1m \u001b[0m\u001b[1m        Param #\u001b[0m\u001b[1m \u001b[0m┃\n",
              "┡━━━━━━━━━━━━━━━━━━━━━━━━━━━━━━━━━━━━━━╇━━━━━━━━━━━━━━━━━━━━━━━━━━━━━╇━━━━━━━━━━━━━━━━━┩\n",
              "│ conv2d_23 (\u001b[38;5;33mConv2D\u001b[0m)                   │ (\u001b[38;5;45mNone\u001b[0m, \u001b[38;5;34m222\u001b[0m, \u001b[38;5;34m222\u001b[0m, \u001b[38;5;34m16\u001b[0m)        │             \u001b[38;5;34m448\u001b[0m │\n",
              "├──────────────────────────────────────┼─────────────────────────────┼─────────────────┤\n",
              "│ conv2d_24 (\u001b[38;5;33mConv2D\u001b[0m)                   │ (\u001b[38;5;45mNone\u001b[0m, \u001b[38;5;34m220\u001b[0m, \u001b[38;5;34m220\u001b[0m, \u001b[38;5;34m32\u001b[0m)        │           \u001b[38;5;34m4,640\u001b[0m │\n",
              "├──────────────────────────────────────┼─────────────────────────────┼─────────────────┤\n",
              "│ max_pooling2d_4 (\u001b[38;5;33mMaxPooling2D\u001b[0m)       │ (\u001b[38;5;45mNone\u001b[0m, \u001b[38;5;34m110\u001b[0m, \u001b[38;5;34m110\u001b[0m, \u001b[38;5;34m32\u001b[0m)        │               \u001b[38;5;34m0\u001b[0m │\n",
              "├──────────────────────────────────────┼─────────────────────────────┼─────────────────┤\n",
              "│ conv2d_25 (\u001b[38;5;33mConv2D\u001b[0m)                   │ (\u001b[38;5;45mNone\u001b[0m, \u001b[38;5;34m108\u001b[0m, \u001b[38;5;34m108\u001b[0m, \u001b[38;5;34m64\u001b[0m)        │          \u001b[38;5;34m18,496\u001b[0m │\n",
              "├──────────────────────────────────────┼─────────────────────────────┼─────────────────┤\n",
              "│ conv2d_26 (\u001b[38;5;33mConv2D\u001b[0m)                   │ (\u001b[38;5;45mNone\u001b[0m, \u001b[38;5;34m108\u001b[0m, \u001b[38;5;34m108\u001b[0m, \u001b[38;5;34m64\u001b[0m)        │          \u001b[38;5;34m36,928\u001b[0m │\n",
              "├──────────────────────────────────────┼─────────────────────────────┼─────────────────┤\n",
              "│ conv2d_27 (\u001b[38;5;33mConv2D\u001b[0m)                   │ (\u001b[38;5;45mNone\u001b[0m, \u001b[38;5;34m108\u001b[0m, \u001b[38;5;34m108\u001b[0m, \u001b[38;5;34m32\u001b[0m)        │          \u001b[38;5;34m18,464\u001b[0m │\n",
              "├──────────────────────────────────────┼─────────────────────────────┼─────────────────┤\n",
              "│ conv2d_28 (\u001b[38;5;33mConv2D\u001b[0m)                   │ (\u001b[38;5;45mNone\u001b[0m, \u001b[38;5;34m108\u001b[0m, \u001b[38;5;34m108\u001b[0m, \u001b[38;5;34m16\u001b[0m)        │           \u001b[38;5;34m4,624\u001b[0m │\n",
              "├──────────────────────────────────────┼─────────────────────────────┼─────────────────┤\n",
              "│ average_pooling2d_3                  │ (\u001b[38;5;45mNone\u001b[0m, \u001b[38;5;34m54\u001b[0m, \u001b[38;5;34m54\u001b[0m, \u001b[38;5;34m16\u001b[0m)          │               \u001b[38;5;34m0\u001b[0m │\n",
              "│ (\u001b[38;5;33mAveragePooling2D\u001b[0m)                   │                             │                 │\n",
              "├──────────────────────────────────────┼─────────────────────────────┼─────────────────┤\n",
              "│ flatten_5 (\u001b[38;5;33mFlatten\u001b[0m)                  │ (\u001b[38;5;45mNone\u001b[0m, \u001b[38;5;34m46656\u001b[0m)               │               \u001b[38;5;34m0\u001b[0m │\n",
              "├──────────────────────────────────────┼─────────────────────────────┼─────────────────┤\n",
              "│ dense_10 (\u001b[38;5;33mDense\u001b[0m)                     │ (\u001b[38;5;45mNone\u001b[0m, \u001b[38;5;34m512\u001b[0m)                 │      \u001b[38;5;34m23,888,384\u001b[0m │\n",
              "├──────────────────────────────────────┼─────────────────────────────┼─────────────────┤\n",
              "│ dense_11 (\u001b[38;5;33mDense\u001b[0m)                     │ (\u001b[38;5;45mNone\u001b[0m, \u001b[38;5;34m4\u001b[0m)                   │           \u001b[38;5;34m2,052\u001b[0m │\n",
              "└──────────────────────────────────────┴─────────────────────────────┴─────────────────┘\n"
            ]
          },
          "metadata": {},
          "output_type": "display_data"
        },
        {
          "data": {
            "text/html": [
              "<pre style=\"white-space:pre;overflow-x:auto;line-height:normal;font-family:Menlo,'DejaVu Sans Mono',consolas,'Courier New',monospace\"><span style=\"font-weight: bold\"> Total params: </span><span style=\"color: #00af00; text-decoration-color: #00af00\">71,922,110</span> (274.36 MB)\n",
              "</pre>\n"
            ],
            "text/plain": [
              "\u001b[1m Total params: \u001b[0m\u001b[38;5;34m71,922,110\u001b[0m (274.36 MB)\n"
            ]
          },
          "metadata": {},
          "output_type": "display_data"
        },
        {
          "data": {
            "text/html": [
              "<pre style=\"white-space:pre;overflow-x:auto;line-height:normal;font-family:Menlo,'DejaVu Sans Mono',consolas,'Courier New',monospace\"><span style=\"font-weight: bold\"> Trainable params: </span><span style=\"color: #00af00; text-decoration-color: #00af00\">23,974,036</span> (91.45 MB)\n",
              "</pre>\n"
            ],
            "text/plain": [
              "\u001b[1m Trainable params: \u001b[0m\u001b[38;5;34m23,974,036\u001b[0m (91.45 MB)\n"
            ]
          },
          "metadata": {},
          "output_type": "display_data"
        },
        {
          "data": {
            "text/html": [
              "<pre style=\"white-space:pre;overflow-x:auto;line-height:normal;font-family:Menlo,'DejaVu Sans Mono',consolas,'Courier New',monospace\"><span style=\"font-weight: bold\"> Non-trainable params: </span><span style=\"color: #00af00; text-decoration-color: #00af00\">0</span> (0.00 B)\n",
              "</pre>\n"
            ],
            "text/plain": [
              "\u001b[1m Non-trainable params: \u001b[0m\u001b[38;5;34m0\u001b[0m (0.00 B)\n"
            ]
          },
          "metadata": {},
          "output_type": "display_data"
        },
        {
          "data": {
            "text/html": [
              "<pre style=\"white-space:pre;overflow-x:auto;line-height:normal;font-family:Menlo,'DejaVu Sans Mono',consolas,'Courier New',monospace\"><span style=\"font-weight: bold\"> Optimizer params: </span><span style=\"color: #00af00; text-decoration-color: #00af00\">47,948,074</span> (182.91 MB)\n",
              "</pre>\n"
            ],
            "text/plain": [
              "\u001b[1m Optimizer params: \u001b[0m\u001b[38;5;34m47,948,074\u001b[0m (182.91 MB)\n"
            ]
          },
          "metadata": {},
          "output_type": "display_data"
        },
        {
          "metadata": {
            "tags": null
          },
          "name": "stderr",
          "output_type": "stream",
          "text": [
            "WARNING:absl:You are saving your model as an HDF5 file via `model.save()` or `keras.saving.save_model(model)`. This file format is considered legacy. We recommend using instead the native Keras format, e.g. `model.save('my_model.keras')` or `keras.saving.save_model(model, 'my_model.keras')`. \n"
          ]
        },
        {
          "metadata": {
            "tags": null
          },
          "name": "stdout",
          "output_type": "stream",
          "text": [
            "None\n",
            "FITNESS:  0.32796406745910645\n",
            "----->Evolution: Child net_5 with fitness 0.32796406745910645 replaces parent net_1 with fitness 0.5369361042976379\n"
          ]
        },
        {
          "metadata": {
            "tags": null
          },
          "name": "stderr",
          "output_type": "stream",
          "text": [
            "/usr/local/lib/python3.10/dist-packages/keras/src/saving/saving_lib.py:576: UserWarning: Skipping variable loading for optimizer 'rmsprop', because it has 18 variables whereas the saved optimizer has 34 variables. \n",
            "  saveable.load_own_variables(weights_store.get(inner_path))\n"
          ]
        },
        {
          "output_type": "stream",
          "name": "stdout",
          "text": [
            "\n",
            "------------------------------------\n",
            "Generation 2\n",
            "-------------------------------------\n",
            "\n",
            "Creating Child 0\n",
            "----->Elitism selection\n",
            "Selected net_1 and net_2 for reproduction\n",
            "----->Crossover\n",
            "Child has been created\n",
            "----->Soft Mutation\n",
            "Layer Mutation\n",
            "Changing Pooling layer at index 0 with Conv2D layer\n",
            "Parameters Mutation\n",
            "Mutating Conv2D layer:\n",
            "-->changed self.filters from  64  to  32\n",
            "Mutating Conv2D layer:\n",
            "-->changed self.filters from  64  to  32\n",
            "Mutating Conv2D layer:\n",
            "Mutating Conv2D layer:\n",
            "-->changed self.filters from  16  to  32\n",
            "Mutating AveragePooling2D layer:\n",
            "-->changed self.padding from  same  to  valid\n",
            "Mutating FullyConnected layer:\n",
            "-->changed self.units from  256  to  128.0\n",
            "Child has been mutated\n",
            "\n",
            "INDIVIDUAL ABORTED, CREATING A NEW ONE\n",
            "\n",
            "----->Crossover\n",
            "Block Mutation\n",
            "[(0, 0), (1, 2)]\n",
            "Creating a new block with two Convolutional layers and a Pooling layer\n",
            "Layer Mutation\n",
            "Splitting Conv2D layer at index 1\n",
            "Parameters Mutation\n",
            "Mutating Conv2D layer:\n",
            "-->changed self.filters from  32  to  16\n",
            "Mutating Conv2D layer:\n",
            "-->changed self.filters from  32  to  64\n",
            "Mutating Conv2D layer:\n",
            "-->changed self.padding from  same  to  valid\n",
            "Mutating Conv2D layer:\n",
            "-->changed self.padding from  same  to  valid\n",
            "Mutating MaxPooling2D layer:\n",
            "-->changed self.name from  MaxPooling2D  to  AveragePooling2D\n",
            "Training net_4\n",
            "Epoch 1/3\n",
            "\u001b[1m582/582\u001b[0m \u001b[32m━━━━━━━━━━━━━━━━━━━━\u001b[0m\u001b[37m\u001b[0m \u001b[1m5154s\u001b[0m 9s/step - accuracy: 0.6007 - loss: 3.5483 - val_accuracy: 0.7901 - val_loss: 0.5888\n",
            "Epoch 2/3\n",
            "\u001b[1m582/582\u001b[0m \u001b[32m━━━━━━━━━━━━━━━━━━━━\u001b[0m\u001b[37m\u001b[0m \u001b[1m5153s\u001b[0m 9s/step - accuracy: 0.9167 - loss: 0.2346 - val_accuracy: 0.8677 - val_loss: 0.4052\n",
            "Epoch 3/3\n",
            "\u001b[1m581/582\u001b[0m \u001b[32m━━━━━━━━━━━━━━━━━━━\u001b[0m\u001b[37m━\u001b[0m \u001b[1m8s\u001b[0m 8s/step - accuracy: 0.9636 - loss: 0.0952 "
          ]
        }
      ]
    }
  ]
}